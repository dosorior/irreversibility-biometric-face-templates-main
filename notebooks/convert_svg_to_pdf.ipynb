{
 "cells": [
  {
   "cell_type": "code",
   "execution_count": 15,
   "id": "fcaeba76",
   "metadata": {},
   "outputs": [],
   "source": [
    "from svglib.svglib import svg2rlg\n",
    "from reportlab.graphics import renderPDF\n",
    "import os"
   ]
  },
  {
   "cell_type": "code",
   "execution_count": 16,
   "id": "42a08562",
   "metadata": {},
   "outputs": [],
   "source": [
    "path_arcface = \"./final_eval_arcface_plt/\"\n",
    "save_path_arcface = \"./final_eval_arcface_plt_pdf/\"\n",
    "os.makedirs(save_path_arcface, exist_ok=True)\n",
    "\n",
    "path_elasticface = \"./final_eval_elasticface_plt/\"\n",
    "save_path_elasticface = \"./final_eval_elasticface_plt_pdf/\"\n",
    "os.makedirs(save_path_elasticface, exist_ok=True)"
   ]
  },
  {
   "cell_type": "code",
   "execution_count": 17,
   "id": "a905c7b8",
   "metadata": {
    "scrolled": true
   },
   "outputs": [],
   "source": [
    "all_files_list_arcface, all_files_list_elasticface = [], []\n",
    "for subdir, dirs, files in os.walk(os.path.join(path_arcface)):\n",
    "    for element in files:\n",
    "        file = os.path.join(subdir, element)\n",
    "        all_files_list_arcface.append(file)\n",
    "        \n",
    "for subdir, dirs, files in os.walk(os.path.join(path_elasticface)):\n",
    "    for element in files:\n",
    "        file = os.path.join(subdir, element)\n",
    "        all_files_list_elasticface.append(file)\n",
    "# all_files_list"
   ]
  },
  {
   "cell_type": "code",
   "execution_count": 18,
   "id": "a96cb4b2",
   "metadata": {},
   "outputs": [],
   "source": [
    "for element in all_files_list_arcface:\n",
    "    drawing = svg2rlg(element)\n",
    "    renderPDF.drawToFile(drawing, f\"{save_path_arcface}{element.split('/')[-1].split('.')[0]}.pdf\")\n",
    "    \n",
    "for element in all_files_list_elasticface:\n",
    "    drawing = svg2rlg(element)\n",
    "    renderPDF.drawToFile(drawing, f\"{save_path_elasticface}{element.split('/')[-1].split('.')[0]}.pdf\")"
   ]
  },
  {
   "cell_type": "code",
   "execution_count": null,
   "id": "75d4a92e",
   "metadata": {},
   "outputs": [],
   "source": []
  }
 ],
 "metadata": {
  "kernelspec": {
   "display_name": "Python 3 (ipykernel)",
   "language": "python",
   "name": "python3"
  },
  "language_info": {
   "codemirror_mode": {
    "name": "ipython",
    "version": 3
   },
   "file_extension": ".py",
   "mimetype": "text/x-python",
   "name": "python",
   "nbconvert_exporter": "python",
   "pygments_lexer": "ipython3",
   "version": "3.8.10"
  }
 },
 "nbformat": 4,
 "nbformat_minor": 5
}
