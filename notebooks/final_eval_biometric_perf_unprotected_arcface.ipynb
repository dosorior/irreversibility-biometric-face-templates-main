{
 "cells": [
  {
   "cell_type": "code",
   "execution_count": 8,
   "id": "6a8fcc7f",
   "metadata": {},
   "outputs": [],
   "source": [
    "# Data preparation\n",
    "import pandas as pd\n",
    "import numpy as np\n",
    "\n",
    "# System\n",
    "import os\n",
    "\n",
    "# Plotting\n",
    "from IPython.display import Image, display\n",
    "import matplotlib.pyplot as plt\n",
    "import matplotlib.image as mpimg\n",
    "from matplotlib import rcParams\n",
    "from matplotlib import colors\n",
    "from matplotlib.ticker import PercentFormatter\n",
    "\n",
    "# Normalization and cosine distance\n",
    "from sklearn.preprocessing import MinMaxScaler\n",
    "from scipy.spatial import distance\n",
    "\n",
    "# Pyeer\n",
    "from pyeer.eer_info import get_eer_stats\n",
    "from pyeer.report import generate_eer_report, export_error_rates\n",
    "from pyeer.plot import plot_eer_stats\n",
    "\n",
    "# Settings\n",
    "%matplotlib inline\n",
    "# figure size in inches optional\n",
    "rcParams['figure.figsize'] = 8, 8"
   ]
  },
  {
   "cell_type": "code",
   "execution_count": 9,
   "id": "aa84edda",
   "metadata": {},
   "outputs": [],
   "source": [
    "# Global variables\n",
    "save_path = f\"../evaluation/pyeer_lfwview2_unprotected_arcface_biometric_performance/\"\n",
    "os.makedirs(save_path, exist_ok=True)"
   ]
  },
  {
   "cell_type": "markdown",
   "id": "ee6ed688",
   "metadata": {},
   "source": [
    "# Evaluation of biometric performance for PEMIU enhanced templates\n",
    "\n",
    "Ingest dataframes containing path to LFW View 2 Target A and Target B for\n",
    "- Original image\n",
    "- PEMIU Shuffled embedding\n",
    "- PEMIU Reconstructed embedding\n",
    "- Block Size: See global variable above\n",
    "- cos_sim between PEMIU Shuffled and Reconstructed embeddings\n",
    "\n",
    "Add columns pointing to the unmodified embeddings. Reorder the columns for better readability."
   ]
  },
  {
   "cell_type": "code",
   "execution_count": 10,
   "id": "095252bf",
   "metadata": {},
   "outputs": [],
   "source": [
    "df_genuine = pd.read_csv(f\"../dataframes/lfw_view2_genuine_pemiu16.csv\", sep=\",\")\n",
    "df_impostor = pd.read_csv(f\"../dataframes/lfw_view2_impostor_pemiu16.csv\", sep=\",\")\n",
    "\n",
    "# Add a column just containing the target name without extension\n",
    "df_genuine['a_filename'] = df_genuine['a_img'].apply(lambda x: x.split('/')[-1].split('.')[0])\n",
    "df_genuine['b_filename'] = df_genuine['b_img'].apply(lambda x: x.split('/')[-1].split('.')[0])\n",
    "df_impostor['a_filename'] = df_impostor['a_img'].apply(lambda x: x.split('/')[-1].split('.')[0])\n",
    "df_impostor['b_filename'] = df_impostor['b_img'].apply(lambda x: x.split('/')[-1].split('.')[0])\n",
    "\n",
    "# Add columns with path pointing to unmodified templates\n",
    "path_unmodified = \"../data/features_cleaner/\"\n",
    "df_genuine['a_embedding_unmodified'] = df_genuine['a_filename'].apply(lambda x: f\"{path_unmodified}{x}.npy\")\n",
    "df_genuine['b_embedding_unmodified'] = df_genuine['b_filename'].apply(lambda x: f\"{path_unmodified}{x}.npy\")\n",
    "df_impostor['a_embedding_unmodified'] = df_impostor['a_filename'].apply(lambda x: f\"{path_unmodified}{x}.npy\")\n",
    "df_impostor['b_embedding_unmodified'] = df_impostor['b_filename'].apply(lambda x: f\"{path_unmodified}{x}.npy\")\n",
    "\n",
    "# Rename index column\n",
    "df_genuine = df_genuine.rename(columns = {\"Unnamed: 0\": \"index\"})\n",
    "df_impostor = df_impostor.rename(columns = {\"Unnamed: 0\": \"index\"})\n",
    "\n",
    "# Reorder columns\n",
    "df_genuine = df_genuine[['index',\n",
    "                         \n",
    "                         'a_filename',\n",
    "                         'a_img',\n",
    "                         'a_embedding_unmodified',\n",
    "                         'a_embedding_pemiu',\n",
    "                         'a_embedding_reconstructed',\n",
    "                         \n",
    "                         'b_filename',\n",
    "                         'b_img',\n",
    "                         'b_embedding_unmodified',\n",
    "                         'b_embedding_pemiu',\n",
    "                         \n",
    "                         'cos_sim_a_pemiu_a_pemiu_reconstructed',\n",
    "                        ]]\n",
    "\n",
    "# Reorder columns\n",
    "df_impostor = df_impostor[['index',\n",
    "                         \n",
    "                         'a_filename',\n",
    "                         'a_img',\n",
    "                         'a_embedding_unmodified',\n",
    "                         'a_embedding_pemiu',\n",
    "                         'a_embedding_reconstructed',\n",
    "                         \n",
    "                         'b_filename',\n",
    "                         'b_img',\n",
    "                         'b_embedding_unmodified',\n",
    "                         'b_embedding_pemiu',\n",
    "                         \n",
    "                         'cos_sim_a_pemiu_a_pemiu_reconstructed',\n",
    "                        ]]\n",
    "\n",
    "df_genuine.drop(['a_embedding_pemiu', 'a_embedding_reconstructed', 'b_embedding_pemiu', 'cos_sim_a_pemiu_a_pemiu_reconstructed'], axis=1, inplace=True)\n",
    "df_impostor.drop(['a_embedding_pemiu', 'a_embedding_reconstructed', 'b_embedding_pemiu', 'cos_sim_a_pemiu_a_pemiu_reconstructed'], axis=1, inplace=True)"
   ]
  },
  {
   "cell_type": "markdown",
   "id": "d6be9001",
   "metadata": {},
   "source": [
    "## Calculate cos_sim\n",
    "\n",
    "Calculate cosine similarity of\n",
    "- target a / b embedding"
   ]
  },
  {
   "cell_type": "code",
   "execution_count": 11,
   "id": "7f6cce7f",
   "metadata": {},
   "outputs": [],
   "source": [
    "# Cosine similarity according to Terhörst PEMIU implementation\n",
    "def cos_sim(a, b):\n",
    "    a, b = a.reshape(-1), b.reshape(-1)\n",
    "    return np.dot(a,b) / (np.linalg.norm(a) * np.linalg.norm(b))"
   ]
  },
  {
   "cell_type": "code",
   "execution_count": 12,
   "id": "5f76a0a8",
   "metadata": {},
   "outputs": [],
   "source": [
    "# Load embeddings\n",
    "genuine_a = df_genuine['a_embedding_unmodified'].apply(lambda x: np.load(x)).tolist()\n",
    "genuine_b = df_genuine['b_embedding_unmodified'].apply(lambda x: np.load(x)).tolist()\n",
    "impostor_a = df_impostor['a_embedding_unmodified'].apply(lambda x: np.load(x)).tolist()\n",
    "impostor_b = df_impostor['b_embedding_unmodified'].apply(lambda x: np.load(x)).tolist()\n",
    "\n",
    "# Calculate cosine similarity\n",
    "df_genuine['cos_sim_a_b'] = [(cos_sim(x, y)) for x, y in zip(genuine_a, genuine_b)]\n",
    "df_impostor['cos_sim_a_b'] = [(cos_sim(x, y)) for x, y in zip(impostor_a, impostor_b)]"
   ]
  },
  {
   "cell_type": "markdown",
   "id": "05f99c57",
   "metadata": {},
   "source": [
    "## Normalization\n",
    "\n",
    "Normalize all columsn starting with \"cos_sim\" and append columns with the normalized values"
   ]
  },
  {
   "cell_type": "code",
   "execution_count": 13,
   "id": "107c0d9b",
   "metadata": {},
   "outputs": [],
   "source": [
    "# Normalize cosine distance to range (0, 1)\n",
    "# Simplify gathering of columns by using a mask\n",
    "mask_genuine = df_genuine.columns.str.contains('cos_sim_*')\n",
    "mask_impostor = df_impostor.columns.str.contains('cos_sim_*')\n",
    "\n",
    "# Step 1: Set limits of normalization scale to all columns within the mask by finding min, max values\n",
    "min_max_values_genuine = [array.agg(['min', 'max']) for array in [df_genuine.loc[:, mask_genuine]]]\n",
    "min_max_values_impostor = [array.agg(['min', 'max']) for array in [df_impostor.loc[:, mask_impostor]]]\n",
    "min_max_values_genuine = np.array(min_max_values_genuine).reshape(-1, 1).tolist()\n",
    "min_max_values_impostor = np.array(min_max_values_impostor).reshape(-1, 1).tolist()\n",
    "min_max_values = min_max_values_genuine + min_max_values_impostor\n",
    "\n",
    "# Step 2: Set normalization scale\n",
    "scaler = MinMaxScaler()\n",
    "scaler.fit(min_max_values)\n",
    "\n",
    "# Step 3: Apply normalization to all columns within the mask\n",
    "# Append extension \"_normalized\" to the new column name\n",
    "for column in df_genuine.loc[:, mask_genuine]:\n",
    "    df_genuine[f'{column}_normalized'] = scaler.transform(df_genuine[column].values.reshape(-1, 1))\n",
    "\n",
    "for column in df_impostor.loc[:, mask_impostor]:\n",
    "    df_impostor[f'{column}_normalized'] = scaler.transform(df_impostor[column].values.reshape(-1, 1))"
   ]
  },
  {
   "cell_type": "code",
   "execution_count": 14,
   "id": "03c76681",
   "metadata": {},
   "outputs": [
    {
     "data": {
      "text/plain": [
       "[[-0.00506090964681077],\n",
       " [0.9729986512423157],\n",
       " [-0.2341305629295969],\n",
       " [0.308729186712484]]"
      ]
     },
     "execution_count": 14,
     "metadata": {},
     "output_type": "execute_result"
    }
   ],
   "source": [
    "# Normalization scale\n",
    "# Determined by cosine similarity for mated and non-mated comparison pairs for biometric system\n",
    "min_max_values"
   ]
  },
  {
   "cell_type": "markdown",
   "id": "ab691fbd",
   "metadata": {},
   "source": [
    "## Plot\n",
    "\n",
    "Visualize the distribution of genuine and impostor pairs for both unprotected and PEMIU enhanced templates on a normalized scale."
   ]
  },
  {
   "cell_type": "code",
   "execution_count": 15,
   "id": "08ecce28",
   "metadata": {},
   "outputs": [
    {
     "data": {
      "image/png": "[encoded data removed]",
      "text/plain": [
       "<Figure size 1000x700 with 1 Axes>"
      ]
     },
     "metadata": {},
     "output_type": "display_data"
    }
   ],
   "source": [
    "fig, ax = plt.subplots(1, 1,\n",
    "                        figsize = (10, 7),\n",
    "                        tight_layout = True)\n",
    "\n",
    "# Comparison: Genuine and imnpostor\n",
    "ax.hist(df_genuine['cos_sim_a_b_normalized'], bins = 60, label=\"Genuine comparisons (unprotected templates)\")\n",
    "ax.hist(df_impostor['cos_sim_a_b_normalized'], bins = 60, label=\"Impostor comparisons (unprotected templates)\")\n",
    "\n",
    "ax.legend()\n",
    "ax.set_title(\"Cosine similarity of LFW View2 comparison pairs\")\n",
    "plt.xlim([0, 1])\n",
    "    \n",
    "# Show plot\n",
    "plt.show()"
   ]
  },
  {
   "cell_type": "markdown",
   "id": "4ff90e01",
   "metadata": {},
   "source": [
    "## Pyeer report"
   ]
  },
  {
   "cell_type": "code",
   "execution_count": 16,
   "id": "c47bd391",
   "metadata": {},
   "outputs": [],
   "source": [
    "stats_unprotected = get_eer_stats(\n",
    "    df_genuine['cos_sim_a_b_normalized'],\n",
    "    df_impostor['cos_sim_a_b_normalized'],\n",
    "    ds_scores=False)"
   ]
  },
  {
   "cell_type": "code",
   "execution_count": 17,
   "id": "4cda258e",
   "metadata": {},
   "outputs": [],
   "source": [
    "# Export\n",
    "generate_eer_report([stats_unprotected],\n",
    "                    ['Unprotected'],\n",
    "                    save_path + \"eer_report_alt.csv\")\n",
    "\n",
    "export_error_rates(stats_unprotected.fmr, stats_unprotected.fnmr, save_path + 'A_DET.csv')\n",
    "\n",
    "plot_eer_stats([stats_unprotected], ['unprotected'], save_path=save_path)"
   ]
  },
  {
   "cell_type": "code",
   "execution_count": 18,
   "id": "00b6a0f2",
   "metadata": {
    "scrolled": false
   },
   "outputs": [
    {
     "data": {
      "text/html": [
       "<div>\n",
       "<style scoped>\n",
       "    .dataframe tbody tr th:only-of-type {\n",
       "        vertical-align: middle;\n",
       "    }\n",
       "\n",
       "    .dataframe tbody tr th {\n",
       "        vertical-align: top;\n",
       "    }\n",
       "\n",
       "    .dataframe thead th {\n",
       "        text-align: right;\n",
       "    }\n",
       "</style>\n",
       "<table border=\"1\" class=\"dataframe\">\n",
       "  <thead>\n",
       "    <tr style=\"text-align: right;\">\n",
       "      <th></th>\n",
       "      <th>0</th>\n",
       "    </tr>\n",
       "  </thead>\n",
       "  <tbody>\n",
       "    <tr>\n",
       "      <th>Experiment ID</th>\n",
       "      <td>Unprotected</td>\n",
       "    </tr>\n",
       "    <tr>\n",
       "      <th>GMean</th>\n",
       "      <td>0.787249</td>\n",
       "    </tr>\n",
       "    <tr>\n",
       "      <th>GSTD</th>\n",
       "      <td>0.084698</td>\n",
       "    </tr>\n",
       "    <tr>\n",
       "      <th>IMean</th>\n",
       "      <td>0.196099</td>\n",
       "    </tr>\n",
       "    <tr>\n",
       "      <th>ISTD</th>\n",
       "      <td>0.059407</td>\n",
       "    </tr>\n",
       "    <tr>\n",
       "      <th>Sensitivity index (d')</th>\n",
       "      <td>8.080924</td>\n",
       "    </tr>\n",
       "    <tr>\n",
       "      <th>AUC</th>\n",
       "      <td>0.99924</td>\n",
       "    </tr>\n",
       "    <tr>\n",
       "      <th>J-Index</th>\n",
       "      <td>0.995667</td>\n",
       "    </tr>\n",
       "    <tr>\n",
       "      <th>J-Index_TH</th>\n",
       "      <td>0.434108</td>\n",
       "    </tr>\n",
       "    <tr>\n",
       "      <th>MCC</th>\n",
       "      <td>0.995676</td>\n",
       "    </tr>\n",
       "    <tr>\n",
       "      <th>MCC_TH</th>\n",
       "      <td>0.467973</td>\n",
       "    </tr>\n",
       "    <tr>\n",
       "      <th>EERlow</th>\n",
       "      <td>0.003</td>\n",
       "    </tr>\n",
       "    <tr>\n",
       "      <th>EERhigh</th>\n",
       "      <td>0.003</td>\n",
       "    </tr>\n",
       "    <tr>\n",
       "      <th>EER</th>\n",
       "      <td>0.003</td>\n",
       "    </tr>\n",
       "    <tr>\n",
       "      <th>ZeroFMR</th>\n",
       "      <td>0.004333</td>\n",
       "    </tr>\n",
       "    <tr>\n",
       "      <th>FMR1000</th>\n",
       "      <td>0.004</td>\n",
       "    </tr>\n",
       "    <tr>\n",
       "      <th>FMR100</th>\n",
       "      <td>0.002667</td>\n",
       "    </tr>\n",
       "    <tr>\n",
       "      <th>FMR20</th>\n",
       "      <td>0.002</td>\n",
       "    </tr>\n",
       "    <tr>\n",
       "      <th>FMR10</th>\n",
       "      <td>0.001667</td>\n",
       "    </tr>\n",
       "    <tr>\n",
       "      <th>ZeroFNMR</th>\n",
       "      <td>0.537333</td>\n",
       "    </tr>\n",
       "    <tr>\n",
       "      <th>EER_TH</th>\n",
       "      <td>0.364969</td>\n",
       "    </tr>\n",
       "    <tr>\n",
       "      <th>ZeroFMR_TH</th>\n",
       "      <td>0.467973</td>\n",
       "    </tr>\n",
       "    <tr>\n",
       "      <th>FMR1000_TH</th>\n",
       "      <td>0.399035</td>\n",
       "    </tr>\n",
       "    <tr>\n",
       "      <th>FMR100_TH</th>\n",
       "      <td>0.335165</td>\n",
       "    </tr>\n",
       "    <tr>\n",
       "      <th>FMR20_TH</th>\n",
       "      <td>0.296682</td>\n",
       "    </tr>\n",
       "    <tr>\n",
       "      <th>FMR10_TH</th>\n",
       "      <td>0.273044</td>\n",
       "    </tr>\n",
       "    <tr>\n",
       "      <th>ZeroFNMR_TH</th>\n",
       "      <td>0.189764</td>\n",
       "    </tr>\n",
       "  </tbody>\n",
       "</table>\n",
       "</div>"
      ],
      "text/plain": [
       "                                  0\n",
       "Experiment ID           Unprotected\n",
       "GMean                      0.787249\n",
       "GSTD                       0.084698\n",
       "IMean                      0.196099\n",
       "ISTD                       0.059407\n",
       "Sensitivity index (d')     8.080924\n",
       "AUC                         0.99924\n",
       "J-Index                    0.995667\n",
       "J-Index_TH                 0.434108\n",
       "MCC                        0.995676\n",
       "MCC_TH                     0.467973\n",
       "EERlow                        0.003\n",
       "EERhigh                       0.003\n",
       "EER                           0.003\n",
       "ZeroFMR                    0.004333\n",
       "FMR1000                       0.004\n",
       "FMR100                     0.002667\n",
       "FMR20                         0.002\n",
       "FMR10                      0.001667\n",
       "ZeroFNMR                   0.537333\n",
       "EER_TH                     0.364969\n",
       "ZeroFMR_TH                 0.467973\n",
       "FMR1000_TH                 0.399035\n",
       "FMR100_TH                  0.335165\n",
       "FMR20_TH                   0.296682\n",
       "FMR10_TH                   0.273044\n",
       "ZeroFNMR_TH                0.189764"
      ]
     },
     "execution_count": 18,
     "metadata": {},
     "output_type": "execute_result"
    }
   ],
   "source": [
    "df_pyeer = pd.read_csv(f\"{save_path}eer_report_alt.csv\", \n",
    "                       sep=\",\", skiprows=[0])\n",
    "df_pyeer.drop(df_pyeer.index[1:], inplace=True)\n",
    "df_pyeer.T"
   ]
  },
  {
   "cell_type": "code",
   "execution_count": 19,
   "id": "1bc1db21",
   "metadata": {},
   "outputs": [
    {
     "name": "stdout",
     "output_type": "stream",
     "text": [
      "\n",
      "Bona Fide Comparison Unprotected\n",
      "TMR Zero\t\t: 99.57 %\n",
      "TMR 1000 (10^3)\t\t: 99.6 %\n",
      "TMR  100 (10^2)\t\t: 99.73 %\n",
      "TMR   10\t\t: 99.83 %\n"
     ]
    }
   ],
   "source": [
    "labels = [\"TMR Zero\\t\\t\", \"TMR 1000 (10^3)\\t\\t\", \"TMR  100 (10^2)\\t\\t\", \"TMR   10\\t\\t\"]\n",
    "\n",
    "for i, title in enumerate(['Bona Fide Comparison Unprotected']):\n",
    "    print(f\"\\n{title}\")\n",
    "    for index, row in enumerate(df_pyeer[['ZeroFMR', 'FMR1000', 'FMR100', 'FMR10']]):\n",
    "        print(f\"{labels[index]}: {round(((1 - (df_pyeer[row].values[i])) * 100), 2)} %\")"
   ]
  },
  {
   "cell_type": "code",
   "execution_count": null,
   "id": "1193641d",
   "metadata": {},
   "outputs": [],
   "source": []
  }
 ],
 "metadata": {
  "kernelspec": {
   "display_name": "Python 3 (ipykernel)",
   "language": "python",
   "name": "python3"
  },
  "language_info": {
   "codemirror_mode": {
    "name": "ipython",
    "version": 3
   },
   "file_extension": ".py",
   "mimetype": "text/x-python",
   "name": "python",
   "nbconvert_exporter": "python",
   "pygments_lexer": "ipython3",
   "version": "3.8.10"
  }
 },
 "nbformat": 4,
 "nbformat_minor": 5
}
