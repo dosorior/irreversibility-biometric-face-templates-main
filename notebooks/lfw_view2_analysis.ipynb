{
 "cells": [
  {
   "cell_type": "code",
   "execution_count": 1,
   "id": "3ac60512",
   "metadata": {},
   "outputs": [],
   "source": [
    "import pandas as pd"
   ]
  },
  {
   "cell_type": "code",
   "execution_count": 73,
   "id": "4d310740",
   "metadata": {},
   "outputs": [],
   "source": [
    "df = pd.read_csv(\"../data/lfw_view2/pairs_filenames.csv\")"
   ]
  },
  {
   "cell_type": "code",
   "execution_count": 74,
   "id": "c5153164",
   "metadata": {},
   "outputs": [
    {
     "data": {
      "text/html": [
       "<div>\n",
       "<style scoped>\n",
       "    .dataframe tbody tr th:only-of-type {\n",
       "        vertical-align: middle;\n",
       "    }\n",
       "\n",
       "    .dataframe tbody tr th {\n",
       "        vertical-align: top;\n",
       "    }\n",
       "\n",
       "    .dataframe thead th {\n",
       "        text-align: right;\n",
       "    }\n",
       "</style>\n",
       "<table border=\"1\" class=\"dataframe\">\n",
       "  <thead>\n",
       "    <tr style=\"text-align: right;\">\n",
       "      <th></th>\n",
       "      <th>a_img</th>\n",
       "      <th>a_embedding</th>\n",
       "      <th>b_img</th>\n",
       "      <th>b_embedding</th>\n",
       "      <th>genuine</th>\n",
       "    </tr>\n",
       "  </thead>\n",
       "  <tbody>\n",
       "    <tr>\n",
       "      <th>0</th>\n",
       "      <td>../data/lfw_align/Abel_Pacheco/Abel_Pacheco_00...</td>\n",
       "      <td>../data/features_cleaner/Abel_Pacheco_0001.npy</td>\n",
       "      <td>../data/lfw_align/Abel_Pacheco/Abel_Pacheco_00...</td>\n",
       "      <td>../data/features_cleaner/Abel_Pacheco_0004.npy</td>\n",
       "      <td>True</td>\n",
       "    </tr>\n",
       "    <tr>\n",
       "      <th>1</th>\n",
       "      <td>../data/lfw_align/Akhmed_Zakayev/Akhmed_Zakaye...</td>\n",
       "      <td>../data/features_cleaner/Akhmed_Zakayev_0001.npy</td>\n",
       "      <td>../data/lfw_align/Akhmed_Zakayev/Akhmed_Zakaye...</td>\n",
       "      <td>../data/features_cleaner/Akhmed_Zakayev_0003.npy</td>\n",
       "      <td>True</td>\n",
       "    </tr>\n",
       "    <tr>\n",
       "      <th>2</th>\n",
       "      <td>../data/lfw_align/Akhmed_Zakayev/Akhmed_Zakaye...</td>\n",
       "      <td>../data/features_cleaner/Akhmed_Zakayev_0002.npy</td>\n",
       "      <td>../data/lfw_align/Akhmed_Zakayev/Akhmed_Zakaye...</td>\n",
       "      <td>../data/features_cleaner/Akhmed_Zakayev_0003.npy</td>\n",
       "      <td>True</td>\n",
       "    </tr>\n",
       "    <tr>\n",
       "      <th>3</th>\n",
       "      <td>../data/lfw_align/Amber_Tamblyn/Amber_Tamblyn_...</td>\n",
       "      <td>../data/features_cleaner/Amber_Tamblyn_0001.npy</td>\n",
       "      <td>../data/lfw_align/Amber_Tamblyn/Amber_Tamblyn_...</td>\n",
       "      <td>../data/features_cleaner/Amber_Tamblyn_0002.npy</td>\n",
       "      <td>True</td>\n",
       "    </tr>\n",
       "    <tr>\n",
       "      <th>4</th>\n",
       "      <td>../data/lfw_align/Anders_Fogh_Rasmussen/Anders...</td>\n",
       "      <td>../data/features_cleaner/Anders_Fogh_Rasmussen...</td>\n",
       "      <td>../data/lfw_align/Anders_Fogh_Rasmussen/Anders...</td>\n",
       "      <td>../data/features_cleaner/Anders_Fogh_Rasmussen...</td>\n",
       "      <td>True</td>\n",
       "    </tr>\n",
       "    <tr>\n",
       "      <th>...</th>\n",
       "      <td>...</td>\n",
       "      <td>...</td>\n",
       "      <td>...</td>\n",
       "      <td>...</td>\n",
       "      <td>...</td>\n",
       "    </tr>\n",
       "    <tr>\n",
       "      <th>5995</th>\n",
       "      <td>../data/lfw_align/Scott_Wolf/Scott_Wolf_0002.png</td>\n",
       "      <td>../data/features_cleaner/Scott_Wolf_0002.npy</td>\n",
       "      <td>../data/lfw_align/Troy_Polamalu/Troy_Polamalu_...</td>\n",
       "      <td>../data/features_cleaner/Troy_Polamalu_0001.npy</td>\n",
       "      <td>False</td>\n",
       "    </tr>\n",
       "    <tr>\n",
       "      <th>5996</th>\n",
       "      <td>../data/lfw_align/Sergei_Alexandrovitch_Ordzho...</td>\n",
       "      <td>../data/features_cleaner/Sergei_Alexandrovitch...</td>\n",
       "      <td>../data/lfw_align/Yolanda_King/Yolanda_King_00...</td>\n",
       "      <td>../data/features_cleaner/Yolanda_King_0001.npy</td>\n",
       "      <td>False</td>\n",
       "    </tr>\n",
       "    <tr>\n",
       "      <th>5997</th>\n",
       "      <td>../data/lfw_align/Shane_Loux/Shane_Loux_0001.png</td>\n",
       "      <td>../data/features_cleaner/Shane_Loux_0001.npy</td>\n",
       "      <td>../data/lfw_align/Val_Ackerman/Val_Ackerman_00...</td>\n",
       "      <td>../data/features_cleaner/Val_Ackerman_0001.npy</td>\n",
       "      <td>False</td>\n",
       "    </tr>\n",
       "    <tr>\n",
       "      <th>5998</th>\n",
       "      <td>../data/lfw_align/Shawn_Marion/Shawn_Marion_00...</td>\n",
       "      <td>../data/features_cleaner/Shawn_Marion_0001.npy</td>\n",
       "      <td>../data/lfw_align/Shirley_Jones/Shirley_Jones_...</td>\n",
       "      <td>../data/features_cleaner/Shirley_Jones_0001.npy</td>\n",
       "      <td>False</td>\n",
       "    </tr>\n",
       "    <tr>\n",
       "      <th>5999</th>\n",
       "      <td>../data/lfw_align/Slobodan_Milosevic/Slobodan_...</td>\n",
       "      <td>../data/features_cleaner/Slobodan_Milosevic_00...</td>\n",
       "      <td>../data/lfw_align/Sok_An/Sok_An_0001.png</td>\n",
       "      <td>../data/features_cleaner/Sok_An_0001.npy</td>\n",
       "      <td>False</td>\n",
       "    </tr>\n",
       "  </tbody>\n",
       "</table>\n",
       "<p>6000 rows × 5 columns</p>\n",
       "</div>"
      ],
      "text/plain": [
       "                                                  a_img  \\\n",
       "0     ../data/lfw_align/Abel_Pacheco/Abel_Pacheco_00...   \n",
       "1     ../data/lfw_align/Akhmed_Zakayev/Akhmed_Zakaye...   \n",
       "2     ../data/lfw_align/Akhmed_Zakayev/Akhmed_Zakaye...   \n",
       "3     ../data/lfw_align/Amber_Tamblyn/Amber_Tamblyn_...   \n",
       "4     ../data/lfw_align/Anders_Fogh_Rasmussen/Anders...   \n",
       "...                                                 ...   \n",
       "5995   ../data/lfw_align/Scott_Wolf/Scott_Wolf_0002.png   \n",
       "5996  ../data/lfw_align/Sergei_Alexandrovitch_Ordzho...   \n",
       "5997   ../data/lfw_align/Shane_Loux/Shane_Loux_0001.png   \n",
       "5998  ../data/lfw_align/Shawn_Marion/Shawn_Marion_00...   \n",
       "5999  ../data/lfw_align/Slobodan_Milosevic/Slobodan_...   \n",
       "\n",
       "                                            a_embedding  \\\n",
       "0        ../data/features_cleaner/Abel_Pacheco_0001.npy   \n",
       "1      ../data/features_cleaner/Akhmed_Zakayev_0001.npy   \n",
       "2      ../data/features_cleaner/Akhmed_Zakayev_0002.npy   \n",
       "3       ../data/features_cleaner/Amber_Tamblyn_0001.npy   \n",
       "4     ../data/features_cleaner/Anders_Fogh_Rasmussen...   \n",
       "...                                                 ...   \n",
       "5995       ../data/features_cleaner/Scott_Wolf_0002.npy   \n",
       "5996  ../data/features_cleaner/Sergei_Alexandrovitch...   \n",
       "5997       ../data/features_cleaner/Shane_Loux_0001.npy   \n",
       "5998     ../data/features_cleaner/Shawn_Marion_0001.npy   \n",
       "5999  ../data/features_cleaner/Slobodan_Milosevic_00...   \n",
       "\n",
       "                                                  b_img  \\\n",
       "0     ../data/lfw_align/Abel_Pacheco/Abel_Pacheco_00...   \n",
       "1     ../data/lfw_align/Akhmed_Zakayev/Akhmed_Zakaye...   \n",
       "2     ../data/lfw_align/Akhmed_Zakayev/Akhmed_Zakaye...   \n",
       "3     ../data/lfw_align/Amber_Tamblyn/Amber_Tamblyn_...   \n",
       "4     ../data/lfw_align/Anders_Fogh_Rasmussen/Anders...   \n",
       "...                                                 ...   \n",
       "5995  ../data/lfw_align/Troy_Polamalu/Troy_Polamalu_...   \n",
       "5996  ../data/lfw_align/Yolanda_King/Yolanda_King_00...   \n",
       "5997  ../data/lfw_align/Val_Ackerman/Val_Ackerman_00...   \n",
       "5998  ../data/lfw_align/Shirley_Jones/Shirley_Jones_...   \n",
       "5999           ../data/lfw_align/Sok_An/Sok_An_0001.png   \n",
       "\n",
       "                                            b_embedding  genuine  \n",
       "0        ../data/features_cleaner/Abel_Pacheco_0004.npy     True  \n",
       "1      ../data/features_cleaner/Akhmed_Zakayev_0003.npy     True  \n",
       "2      ../data/features_cleaner/Akhmed_Zakayev_0003.npy     True  \n",
       "3       ../data/features_cleaner/Amber_Tamblyn_0002.npy     True  \n",
       "4     ../data/features_cleaner/Anders_Fogh_Rasmussen...     True  \n",
       "...                                                 ...      ...  \n",
       "5995    ../data/features_cleaner/Troy_Polamalu_0001.npy    False  \n",
       "5996     ../data/features_cleaner/Yolanda_King_0001.npy    False  \n",
       "5997     ../data/features_cleaner/Val_Ackerman_0001.npy    False  \n",
       "5998    ../data/features_cleaner/Shirley_Jones_0001.npy    False  \n",
       "5999           ../data/features_cleaner/Sok_An_0001.npy    False  \n",
       "\n",
       "[6000 rows x 5 columns]"
      ]
     },
     "execution_count": 74,
     "metadata": {},
     "output_type": "execute_result"
    }
   ],
   "source": [
    "df"
   ]
  },
  {
   "cell_type": "code",
   "execution_count": 75,
   "id": "f2abf0e1",
   "metadata": {},
   "outputs": [],
   "source": [
    "df = df[['a_img', 'b_img', 'genuine']]"
   ]
  },
  {
   "cell_type": "code",
   "execution_count": 76,
   "id": "22410913",
   "metadata": {},
   "outputs": [
    {
     "name": "stderr",
     "output_type": "stream",
     "text": [
      "/tmp/ipykernel_229/4274349766.py:1: SettingWithCopyWarning: \n",
      "A value is trying to be set on a copy of a slice from a DataFrame.\n",
      "Try using .loc[row_indexer,col_indexer] = value instead\n",
      "\n",
      "See the caveats in the documentation: https://pandas.pydata.org/pandas-docs/stable/user_guide/indexing.html#returning-a-view-versus-a-copy\n",
      "  df.loc[:,:'a_img'] = df['a_img'].apply(lambda x: x.split('/')[-1])\n",
      "/tmp/ipykernel_229/4274349766.py:2: SettingWithCopyWarning: \n",
      "A value is trying to be set on a copy of a slice from a DataFrame.\n",
      "Try using .loc[row_indexer,col_indexer] = value instead\n",
      "\n",
      "See the caveats in the documentation: https://pandas.pydata.org/pandas-docs/stable/user_guide/indexing.html#returning-a-view-versus-a-copy\n",
      "  df.loc[:,'b_img':'b_img'] = df['b_img'].apply(lambda x: x.split('/')[-1])\n"
     ]
    }
   ],
   "source": [
    "df.loc[:,:'a_img'] = df['a_img'].apply(lambda x: x.split('/')[-1])\n",
    "df.loc[:,'b_img':'b_img'] = df['b_img'].apply(lambda x: x.split('/')[-1])"
   ]
  },
  {
   "cell_type": "code",
   "execution_count": 77,
   "id": "99c48643",
   "metadata": {},
   "outputs": [
    {
     "data": {
      "text/html": [
       "<div>\n",
       "<style scoped>\n",
       "    .dataframe tbody tr th:only-of-type {\n",
       "        vertical-align: middle;\n",
       "    }\n",
       "\n",
       "    .dataframe tbody tr th {\n",
       "        vertical-align: top;\n",
       "    }\n",
       "\n",
       "    .dataframe thead th {\n",
       "        text-align: right;\n",
       "    }\n",
       "</style>\n",
       "<table border=\"1\" class=\"dataframe\">\n",
       "  <thead>\n",
       "    <tr style=\"text-align: right;\">\n",
       "      <th></th>\n",
       "      <th>a_img</th>\n",
       "      <th>b_img</th>\n",
       "      <th>genuine</th>\n",
       "    </tr>\n",
       "  </thead>\n",
       "  <tbody>\n",
       "    <tr>\n",
       "      <th>0</th>\n",
       "      <td>Abel_Pacheco_0001.png</td>\n",
       "      <td>Abel_Pacheco_0004.png</td>\n",
       "      <td>True</td>\n",
       "    </tr>\n",
       "    <tr>\n",
       "      <th>1</th>\n",
       "      <td>Akhmed_Zakayev_0001.png</td>\n",
       "      <td>Akhmed_Zakayev_0003.png</td>\n",
       "      <td>True</td>\n",
       "    </tr>\n",
       "    <tr>\n",
       "      <th>2</th>\n",
       "      <td>Akhmed_Zakayev_0002.png</td>\n",
       "      <td>Akhmed_Zakayev_0003.png</td>\n",
       "      <td>True</td>\n",
       "    </tr>\n",
       "    <tr>\n",
       "      <th>3</th>\n",
       "      <td>Amber_Tamblyn_0001.png</td>\n",
       "      <td>Amber_Tamblyn_0002.png</td>\n",
       "      <td>True</td>\n",
       "    </tr>\n",
       "    <tr>\n",
       "      <th>4</th>\n",
       "      <td>Anders_Fogh_Rasmussen_0001.png</td>\n",
       "      <td>Anders_Fogh_Rasmussen_0003.png</td>\n",
       "      <td>True</td>\n",
       "    </tr>\n",
       "  </tbody>\n",
       "</table>\n",
       "</div>"
      ],
      "text/plain": [
       "                            a_img                           b_img  genuine\n",
       "0           Abel_Pacheco_0001.png           Abel_Pacheco_0004.png     True\n",
       "1         Akhmed_Zakayev_0001.png         Akhmed_Zakayev_0003.png     True\n",
       "2         Akhmed_Zakayev_0002.png         Akhmed_Zakayev_0003.png     True\n",
       "3          Amber_Tamblyn_0001.png          Amber_Tamblyn_0002.png     True\n",
       "4  Anders_Fogh_Rasmussen_0001.png  Anders_Fogh_Rasmussen_0003.png     True"
      ]
     },
     "execution_count": 77,
     "metadata": {},
     "output_type": "execute_result"
    }
   ],
   "source": [
    "df.head()"
   ]
  },
  {
   "cell_type": "code",
   "execution_count": 61,
   "id": "06e9a8f5",
   "metadata": {},
   "outputs": [
    {
     "name": "stderr",
     "output_type": "stream",
     "text": [
      "/tmp/ipykernel_229/3237137949.py:1: SettingWithCopyWarning: \n",
      "A value is trying to be set on a copy of a slice from a DataFrame.\n",
      "Try using .loc[row_indexer,col_indexer] = value instead\n",
      "\n",
      "See the caveats in the documentation: https://pandas.pydata.org/pandas-docs/stable/user_guide/indexing.html#returning-a-view-versus-a-copy\n",
      "  df['a_img'] = df['a_img'].apply(lambda x: '_'.join(x.split('_')[:-1]))\n",
      "/tmp/ipykernel_229/3237137949.py:2: SettingWithCopyWarning: \n",
      "A value is trying to be set on a copy of a slice from a DataFrame.\n",
      "Try using .loc[row_indexer,col_indexer] = value instead\n",
      "\n",
      "See the caveats in the documentation: https://pandas.pydata.org/pandas-docs/stable/user_guide/indexing.html#returning-a-view-versus-a-copy\n",
      "  df['b_img'] = df['b_img'].apply(lambda x: '_'.join(x.split('_')[:-1]))\n"
     ]
    }
   ],
   "source": [
    "df['a_img'] = df['a_img'].apply(lambda x: '_'.join(x.split('_')[:-1]))\n",
    "df['b_img'] = df['b_img'].apply(lambda x: '_'.join(x.split('_')[:-1]))"
   ]
  },
  {
   "cell_type": "code",
   "execution_count": 78,
   "id": "ce369c51",
   "metadata": {},
   "outputs": [
    {
     "data": {
      "text/html": [
       "<div>\n",
       "<style scoped>\n",
       "    .dataframe tbody tr th:only-of-type {\n",
       "        vertical-align: middle;\n",
       "    }\n",
       "\n",
       "    .dataframe tbody tr th {\n",
       "        vertical-align: top;\n",
       "    }\n",
       "\n",
       "    .dataframe thead th {\n",
       "        text-align: right;\n",
       "    }\n",
       "</style>\n",
       "<table border=\"1\" class=\"dataframe\">\n",
       "  <thead>\n",
       "    <tr style=\"text-align: right;\">\n",
       "      <th></th>\n",
       "      <th>a_img</th>\n",
       "      <th>b_img</th>\n",
       "      <th>genuine</th>\n",
       "    </tr>\n",
       "  </thead>\n",
       "  <tbody>\n",
       "    <tr>\n",
       "      <th>0</th>\n",
       "      <td>Abel_Pacheco_0001.png</td>\n",
       "      <td>Abel_Pacheco_0004.png</td>\n",
       "      <td>True</td>\n",
       "    </tr>\n",
       "    <tr>\n",
       "      <th>1</th>\n",
       "      <td>Akhmed_Zakayev_0001.png</td>\n",
       "      <td>Akhmed_Zakayev_0003.png</td>\n",
       "      <td>True</td>\n",
       "    </tr>\n",
       "    <tr>\n",
       "      <th>2</th>\n",
       "      <td>Akhmed_Zakayev_0002.png</td>\n",
       "      <td>Akhmed_Zakayev_0003.png</td>\n",
       "      <td>True</td>\n",
       "    </tr>\n",
       "    <tr>\n",
       "      <th>3</th>\n",
       "      <td>Amber_Tamblyn_0001.png</td>\n",
       "      <td>Amber_Tamblyn_0002.png</td>\n",
       "      <td>True</td>\n",
       "    </tr>\n",
       "    <tr>\n",
       "      <th>4</th>\n",
       "      <td>Anders_Fogh_Rasmussen_0001.png</td>\n",
       "      <td>Anders_Fogh_Rasmussen_0003.png</td>\n",
       "      <td>True</td>\n",
       "    </tr>\n",
       "    <tr>\n",
       "      <th>...</th>\n",
       "      <td>...</td>\n",
       "      <td>...</td>\n",
       "      <td>...</td>\n",
       "    </tr>\n",
       "    <tr>\n",
       "      <th>5995</th>\n",
       "      <td>Scott_Wolf_0002.png</td>\n",
       "      <td>Troy_Polamalu_0001.png</td>\n",
       "      <td>False</td>\n",
       "    </tr>\n",
       "    <tr>\n",
       "      <th>5996</th>\n",
       "      <td>Sergei_Alexandrovitch_Ordzhonikidze_0001.png</td>\n",
       "      <td>Yolanda_King_0001.png</td>\n",
       "      <td>False</td>\n",
       "    </tr>\n",
       "    <tr>\n",
       "      <th>5997</th>\n",
       "      <td>Shane_Loux_0001.png</td>\n",
       "      <td>Val_Ackerman_0001.png</td>\n",
       "      <td>False</td>\n",
       "    </tr>\n",
       "    <tr>\n",
       "      <th>5998</th>\n",
       "      <td>Shawn_Marion_0001.png</td>\n",
       "      <td>Shirley_Jones_0001.png</td>\n",
       "      <td>False</td>\n",
       "    </tr>\n",
       "    <tr>\n",
       "      <th>5999</th>\n",
       "      <td>Slobodan_Milosevic_0002.png</td>\n",
       "      <td>Sok_An_0001.png</td>\n",
       "      <td>False</td>\n",
       "    </tr>\n",
       "  </tbody>\n",
       "</table>\n",
       "<p>6000 rows × 3 columns</p>\n",
       "</div>"
      ],
      "text/plain": [
       "                                             a_img  \\\n",
       "0                            Abel_Pacheco_0001.png   \n",
       "1                          Akhmed_Zakayev_0001.png   \n",
       "2                          Akhmed_Zakayev_0002.png   \n",
       "3                           Amber_Tamblyn_0001.png   \n",
       "4                   Anders_Fogh_Rasmussen_0001.png   \n",
       "...                                            ...   \n",
       "5995                           Scott_Wolf_0002.png   \n",
       "5996  Sergei_Alexandrovitch_Ordzhonikidze_0001.png   \n",
       "5997                           Shane_Loux_0001.png   \n",
       "5998                         Shawn_Marion_0001.png   \n",
       "5999                   Slobodan_Milosevic_0002.png   \n",
       "\n",
       "                               b_img  genuine  \n",
       "0              Abel_Pacheco_0004.png     True  \n",
       "1            Akhmed_Zakayev_0003.png     True  \n",
       "2            Akhmed_Zakayev_0003.png     True  \n",
       "3             Amber_Tamblyn_0002.png     True  \n",
       "4     Anders_Fogh_Rasmussen_0003.png     True  \n",
       "...                              ...      ...  \n",
       "5995          Troy_Polamalu_0001.png    False  \n",
       "5996           Yolanda_King_0001.png    False  \n",
       "5997           Val_Ackerman_0001.png    False  \n",
       "5998          Shirley_Jones_0001.png    False  \n",
       "5999                 Sok_An_0001.png    False  \n",
       "\n",
       "[6000 rows x 3 columns]"
      ]
     },
     "execution_count": 78,
     "metadata": {},
     "output_type": "execute_result"
    }
   ],
   "source": [
    "df"
   ]
  },
  {
   "cell_type": "code",
   "execution_count": null,
   "id": "6608a3f9",
   "metadata": {},
   "outputs": [],
   "source": []
  },
  {
   "cell_type": "code",
   "execution_count": 79,
   "id": "49d475a2",
   "metadata": {},
   "outputs": [
    {
     "data": {
      "text/plain": [
       "(6000, 3)"
      ]
     },
     "execution_count": 79,
     "metadata": {},
     "output_type": "execute_result"
    }
   ],
   "source": [
    "df.shape"
   ]
  },
  {
   "cell_type": "code",
   "execution_count": 80,
   "id": "eba9498d",
   "metadata": {},
   "outputs": [
    {
     "data": {
      "text/plain": [
       "a_img      4564\n",
       "b_img      4576\n",
       "genuine       2\n",
       "dtype: int64"
      ]
     },
     "execution_count": 80,
     "metadata": {},
     "output_type": "execute_result"
    }
   ],
   "source": [
    "df.nunique()"
   ]
  },
  {
   "cell_type": "code",
   "execution_count": 83,
   "id": "3ecf74e7",
   "metadata": {},
   "outputs": [
    {
     "data": {
      "text/plain": [
       "a_img      2551\n",
       "b_img      2556\n",
       "genuine       1\n",
       "dtype: int64"
      ]
     },
     "execution_count": 83,
     "metadata": {},
     "output_type": "execute_result"
    }
   ],
   "source": [
    "df[df['genuine'] == True].nunique()"
   ]
  },
  {
   "cell_type": "code",
   "execution_count": 84,
   "id": "86658092",
   "metadata": {},
   "outputs": [
    {
     "data": {
      "text/plain": [
       "a_img      2317\n",
       "b_img      2329\n",
       "genuine       1\n",
       "dtype: int64"
      ]
     },
     "execution_count": 84,
     "metadata": {},
     "output_type": "execute_result"
    }
   ],
   "source": [
    "df[df['genuine'] == False].nunique()"
   ]
  },
  {
   "cell_type": "code",
   "execution_count": 85,
   "id": "4109c5d5",
   "metadata": {},
   "outputs": [
    {
     "data": {
      "text/plain": [
       "0                 Abel_Pacheco_0001.png\n",
       "1               Akhmed_Zakayev_0001.png\n",
       "2               Akhmed_Zakayev_0002.png\n",
       "3                Amber_Tamblyn_0001.png\n",
       "4        Anders_Fogh_Rasmussen_0001.png\n",
       "                     ...               \n",
       "5695        Vladimir_Voltchkov_0001.png\n",
       "5696                   Wang_Yi_0001.png\n",
       "5697    Zafarullah_Khan_Jamali_0001.png\n",
       "5698                Zhu_Rongji_0001.png\n",
       "5699                Zhu_Rongji_0002.png\n",
       "Name: a_img, Length: 3000, dtype: object"
      ]
     },
     "execution_count": 85,
     "metadata": {},
     "output_type": "execute_result"
    }
   ],
   "source": [
    "df[df['genuine'] == True]['a_img']"
   ]
  },
  {
   "cell_type": "code",
   "execution_count": 86,
   "id": "1a1508b3",
   "metadata": {},
   "outputs": [],
   "source": [
    "df_genuine_unique = pd.DataFrame(df[df['genuine'] == True]['a_img'].tolist() + df[df['genuine'] == True]['b_img'].tolist())"
   ]
  },
  {
   "cell_type": "code",
   "execution_count": null,
   "id": "367cab4c",
   "metadata": {},
   "outputs": [],
   "source": []
  },
  {
   "cell_type": "code",
   "execution_count": 87,
   "id": "5233a91d",
   "metadata": {},
   "outputs": [
    {
     "data": {
      "text/plain": [
       "0    4720\n",
       "dtype: int64"
      ]
     },
     "execution_count": 87,
     "metadata": {},
     "output_type": "execute_result"
    }
   ],
   "source": [
    "df_genuine_unique.nunique()"
   ]
  },
  {
   "cell_type": "code",
   "execution_count": 88,
   "id": "888df854",
   "metadata": {},
   "outputs": [],
   "source": [
    "df_impostor_unique = pd.DataFrame(df[df['genuine'] == False]['a_img'].tolist() + df[df['genuine'] == False]['b_img'].tolist())"
   ]
  },
  {
   "cell_type": "code",
   "execution_count": 89,
   "id": "d70bd127",
   "metadata": {},
   "outputs": [
    {
     "data": {
      "text/plain": [
       "0    4112\n",
       "dtype: int64"
      ]
     },
     "execution_count": 89,
     "metadata": {},
     "output_type": "execute_result"
    }
   ],
   "source": [
    "df_impostor_unique.nunique()"
   ]
  },
  {
   "cell_type": "code",
   "execution_count": null,
   "id": "4a273a08",
   "metadata": {},
   "outputs": [],
   "source": []
  }
 ],
 "metadata": {
  "kernelspec": {
   "display_name": "Python 3 (ipykernel)",
   "language": "python",
   "name": "python3"
  },
  "language_info": {
   "codemirror_mode": {
    "name": "ipython",
    "version": 3
   },
   "file_extension": ".py",
   "mimetype": "text/x-python",
   "name": "python",
   "nbconvert_exporter": "python",
   "pygments_lexer": "ipython3",
   "version": "3.8.10"
  }
 },
 "nbformat": 4,
 "nbformat_minor": 5
}
