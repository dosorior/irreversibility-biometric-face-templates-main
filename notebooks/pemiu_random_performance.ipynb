{
 "cells": [
  {
   "cell_type": "code",
   "execution_count": 11,
   "id": "6beaac90",
   "metadata": {},
   "outputs": [],
   "source": [
    "import pandas as pd\n",
    "import os\n",
    "import random\n",
    "import numpy as np\n",
    "from recreate_icip2022_face_reconstruction.GenerateSampleImages import GenerateSampleImagesFromEmbeddings\n",
    "from recreate_icip2022_face_reconstruction.src.pemiu.privacy_enhancing_miu import PrivacyEnhancingMIU"
   ]
  },
  {
   "cell_type": "code",
   "execution_count": 12,
   "id": "1052d974",
   "metadata": {},
   "outputs": [],
   "source": [
    "df = pd.read_csv(\"../recreate_icip2022_face_reconstruction/experiments/experiment_9_pemiu_randomization/cosine_similarity/cos_sim_samples_pemiu_model3.csv\")"
   ]
  },
  {
   "cell_type": "code",
   "execution_count": 13,
   "id": "1dcb5d10",
   "metadata": {},
   "outputs": [
    {
     "data": {
      "text/html": [
       "<div>\n",
       "<style scoped>\n",
       "    .dataframe tbody tr th:only-of-type {\n",
       "        vertical-align: middle;\n",
       "    }\n",
       "\n",
       "    .dataframe tbody tr th {\n",
       "        vertical-align: top;\n",
       "    }\n",
       "\n",
       "    .dataframe thead th {\n",
       "        text-align: right;\n",
       "    }\n",
       "</style>\n",
       "<table border=\"1\" class=\"dataframe\">\n",
       "  <thead>\n",
       "    <tr style=\"text-align: right;\">\n",
       "      <th></th>\n",
       "      <th>Unnamed: 0</th>\n",
       "      <th>filename</th>\n",
       "      <th>unprotected</th>\n",
       "      <th>cos_sim_pemiu16_vs_real</th>\n",
       "    </tr>\n",
       "  </thead>\n",
       "  <tbody>\n",
       "    <tr>\n",
       "      <th>0</th>\n",
       "      <td>0</td>\n",
       "      <td>experiments/experiment_9_pemiu_randomization/s...</td>\n",
       "      <td>experiments/experiment_9_pemiu_randomization/s...</td>\n",
       "      <td>0.048474</td>\n",
       "    </tr>\n",
       "    <tr>\n",
       "      <th>1</th>\n",
       "      <td>1</td>\n",
       "      <td>experiments/experiment_9_pemiu_randomization/s...</td>\n",
       "      <td>experiments/experiment_9_pemiu_randomization/s...</td>\n",
       "      <td>0.071493</td>\n",
       "    </tr>\n",
       "    <tr>\n",
       "      <th>2</th>\n",
       "      <td>2</td>\n",
       "      <td>experiments/experiment_9_pemiu_randomization/s...</td>\n",
       "      <td>experiments/experiment_9_pemiu_randomization/s...</td>\n",
       "      <td>-0.141128</td>\n",
       "    </tr>\n",
       "    <tr>\n",
       "      <th>3</th>\n",
       "      <td>3</td>\n",
       "      <td>experiments/experiment_9_pemiu_randomization/s...</td>\n",
       "      <td>experiments/experiment_9_pemiu_randomization/s...</td>\n",
       "      <td>0.010552</td>\n",
       "    </tr>\n",
       "    <tr>\n",
       "      <th>4</th>\n",
       "      <td>4</td>\n",
       "      <td>experiments/experiment_9_pemiu_randomization/s...</td>\n",
       "      <td>experiments/experiment_9_pemiu_randomization/s...</td>\n",
       "      <td>0.041693</td>\n",
       "    </tr>\n",
       "    <tr>\n",
       "      <th>...</th>\n",
       "      <td>...</td>\n",
       "      <td>...</td>\n",
       "      <td>...</td>\n",
       "      <td>...</td>\n",
       "    </tr>\n",
       "    <tr>\n",
       "      <th>123</th>\n",
       "      <td>123</td>\n",
       "      <td>experiments/experiment_9_pemiu_randomization/s...</td>\n",
       "      <td>experiments/experiment_9_pemiu_randomization/s...</td>\n",
       "      <td>0.073477</td>\n",
       "    </tr>\n",
       "    <tr>\n",
       "      <th>124</th>\n",
       "      <td>124</td>\n",
       "      <td>experiments/experiment_9_pemiu_randomization/s...</td>\n",
       "      <td>experiments/experiment_9_pemiu_randomization/s...</td>\n",
       "      <td>-0.005136</td>\n",
       "    </tr>\n",
       "    <tr>\n",
       "      <th>125</th>\n",
       "      <td>125</td>\n",
       "      <td>experiments/experiment_9_pemiu_randomization/s...</td>\n",
       "      <td>experiments/experiment_9_pemiu_randomization/s...</td>\n",
       "      <td>0.012742</td>\n",
       "    </tr>\n",
       "    <tr>\n",
       "      <th>126</th>\n",
       "      <td>126</td>\n",
       "      <td>experiments/experiment_9_pemiu_randomization/s...</td>\n",
       "      <td>experiments/experiment_9_pemiu_randomization/s...</td>\n",
       "      <td>0.103723</td>\n",
       "    </tr>\n",
       "    <tr>\n",
       "      <th>127</th>\n",
       "      <td>127</td>\n",
       "      <td>experiments/experiment_9_pemiu_randomization/s...</td>\n",
       "      <td>experiments/experiment_9_pemiu_randomization/s...</td>\n",
       "      <td>-0.102629</td>\n",
       "    </tr>\n",
       "  </tbody>\n",
       "</table>\n",
       "<p>128 rows × 4 columns</p>\n",
       "</div>"
      ],
      "text/plain": [
       "     Unnamed: 0                                           filename  \\\n",
       "0             0  experiments/experiment_9_pemiu_randomization/s...   \n",
       "1             1  experiments/experiment_9_pemiu_randomization/s...   \n",
       "2             2  experiments/experiment_9_pemiu_randomization/s...   \n",
       "3             3  experiments/experiment_9_pemiu_randomization/s...   \n",
       "4             4  experiments/experiment_9_pemiu_randomization/s...   \n",
       "..          ...                                                ...   \n",
       "123         123  experiments/experiment_9_pemiu_randomization/s...   \n",
       "124         124  experiments/experiment_9_pemiu_randomization/s...   \n",
       "125         125  experiments/experiment_9_pemiu_randomization/s...   \n",
       "126         126  experiments/experiment_9_pemiu_randomization/s...   \n",
       "127         127  experiments/experiment_9_pemiu_randomization/s...   \n",
       "\n",
       "                                           unprotected  \\\n",
       "0    experiments/experiment_9_pemiu_randomization/s...   \n",
       "1    experiments/experiment_9_pemiu_randomization/s...   \n",
       "2    experiments/experiment_9_pemiu_randomization/s...   \n",
       "3    experiments/experiment_9_pemiu_randomization/s...   \n",
       "4    experiments/experiment_9_pemiu_randomization/s...   \n",
       "..                                                 ...   \n",
       "123  experiments/experiment_9_pemiu_randomization/s...   \n",
       "124  experiments/experiment_9_pemiu_randomization/s...   \n",
       "125  experiments/experiment_9_pemiu_randomization/s...   \n",
       "126  experiments/experiment_9_pemiu_randomization/s...   \n",
       "127  experiments/experiment_9_pemiu_randomization/s...   \n",
       "\n",
       "     cos_sim_pemiu16_vs_real  \n",
       "0                   0.048474  \n",
       "1                   0.071493  \n",
       "2                  -0.141128  \n",
       "3                   0.010552  \n",
       "4                   0.041693  \n",
       "..                       ...  \n",
       "123                 0.073477  \n",
       "124                -0.005136  \n",
       "125                 0.012742  \n",
       "126                 0.103723  \n",
       "127                -0.102629  \n",
       "\n",
       "[128 rows x 4 columns]"
      ]
     },
     "execution_count": 13,
     "metadata": {},
     "output_type": "execute_result"
    }
   ],
   "source": [
    "df"
   ]
  },
  {
   "cell_type": "code",
   "execution_count": 14,
   "id": "bc973318",
   "metadata": {},
   "outputs": [],
   "source": [
    "df['file'] = df['filename'].apply(lambda x: x.split('/')[-1])"
   ]
  },
  {
   "cell_type": "code",
   "execution_count": 15,
   "id": "68ed6495",
   "metadata": {},
   "outputs": [
    {
     "data": {
      "text/html": [
       "<div>\n",
       "<style scoped>\n",
       "    .dataframe tbody tr th:only-of-type {\n",
       "        vertical-align: middle;\n",
       "    }\n",
       "\n",
       "    .dataframe tbody tr th {\n",
       "        vertical-align: top;\n",
       "    }\n",
       "\n",
       "    .dataframe thead th {\n",
       "        text-align: right;\n",
       "    }\n",
       "</style>\n",
       "<table border=\"1\" class=\"dataframe\">\n",
       "  <thead>\n",
       "    <tr style=\"text-align: right;\">\n",
       "      <th></th>\n",
       "      <th>Unnamed: 0</th>\n",
       "      <th>filename</th>\n",
       "      <th>unprotected</th>\n",
       "      <th>cos_sim_pemiu16_vs_real</th>\n",
       "      <th>file</th>\n",
       "    </tr>\n",
       "  </thead>\n",
       "  <tbody>\n",
       "    <tr>\n",
       "      <th>40</th>\n",
       "      <td>40</td>\n",
       "      <td>experiments/experiment_9_pemiu_randomization/s...</td>\n",
       "      <td>experiments/experiment_9_pemiu_randomization/s...</td>\n",
       "      <td>0.164585</td>\n",
       "      <td>Amer_al-Saadi_0001_model1_pemiu16_0040.png</td>\n",
       "    </tr>\n",
       "    <tr>\n",
       "      <th>37</th>\n",
       "      <td>37</td>\n",
       "      <td>experiments/experiment_9_pemiu_randomization/s...</td>\n",
       "      <td>experiments/experiment_9_pemiu_randomization/s...</td>\n",
       "      <td>0.127211</td>\n",
       "      <td>Amer_al-Saadi_0001_model1_pemiu16_0037.png</td>\n",
       "    </tr>\n",
       "    <tr>\n",
       "      <th>46</th>\n",
       "      <td>46</td>\n",
       "      <td>experiments/experiment_9_pemiu_randomization/s...</td>\n",
       "      <td>experiments/experiment_9_pemiu_randomization/s...</td>\n",
       "      <td>0.125953</td>\n",
       "      <td>Amer_al-Saadi_0001_model1_pemiu16_0046.png</td>\n",
       "    </tr>\n",
       "    <tr>\n",
       "      <th>59</th>\n",
       "      <td>59</td>\n",
       "      <td>experiments/experiment_9_pemiu_randomization/s...</td>\n",
       "      <td>experiments/experiment_9_pemiu_randomization/s...</td>\n",
       "      <td>0.119147</td>\n",
       "      <td>Amer_al-Saadi_0001_model1_pemiu16_0059.png</td>\n",
       "    </tr>\n",
       "    <tr>\n",
       "      <th>12</th>\n",
       "      <td>12</td>\n",
       "      <td>experiments/experiment_9_pemiu_randomization/s...</td>\n",
       "      <td>experiments/experiment_9_pemiu_randomization/s...</td>\n",
       "      <td>0.118235</td>\n",
       "      <td>Amer_al-Saadi_0001_model1_pemiu16_0012.png</td>\n",
       "    </tr>\n",
       "    <tr>\n",
       "      <th>...</th>\n",
       "      <td>...</td>\n",
       "      <td>...</td>\n",
       "      <td>...</td>\n",
       "      <td>...</td>\n",
       "      <td>...</td>\n",
       "    </tr>\n",
       "    <tr>\n",
       "      <th>114</th>\n",
       "      <td>114</td>\n",
       "      <td>experiments/experiment_9_pemiu_randomization/s...</td>\n",
       "      <td>experiments/experiment_9_pemiu_randomization/s...</td>\n",
       "      <td>-0.131532</td>\n",
       "      <td>Amer_al-Saadi_0001_model1_pemiu16_0114.png</td>\n",
       "    </tr>\n",
       "    <tr>\n",
       "      <th>2</th>\n",
       "      <td>2</td>\n",
       "      <td>experiments/experiment_9_pemiu_randomization/s...</td>\n",
       "      <td>experiments/experiment_9_pemiu_randomization/s...</td>\n",
       "      <td>-0.141128</td>\n",
       "      <td>Amer_al-Saadi_0001_model1_pemiu16_0002.png</td>\n",
       "    </tr>\n",
       "    <tr>\n",
       "      <th>58</th>\n",
       "      <td>58</td>\n",
       "      <td>experiments/experiment_9_pemiu_randomization/s...</td>\n",
       "      <td>experiments/experiment_9_pemiu_randomization/s...</td>\n",
       "      <td>-0.158698</td>\n",
       "      <td>Amer_al-Saadi_0001_model1_pemiu16_0058.png</td>\n",
       "    </tr>\n",
       "    <tr>\n",
       "      <th>95</th>\n",
       "      <td>95</td>\n",
       "      <td>experiments/experiment_9_pemiu_randomization/s...</td>\n",
       "      <td>experiments/experiment_9_pemiu_randomization/s...</td>\n",
       "      <td>-0.159122</td>\n",
       "      <td>Amer_al-Saadi_0001_model1_pemiu16_0095.png</td>\n",
       "    </tr>\n",
       "    <tr>\n",
       "      <th>110</th>\n",
       "      <td>110</td>\n",
       "      <td>experiments/experiment_9_pemiu_randomization/s...</td>\n",
       "      <td>experiments/experiment_9_pemiu_randomization/s...</td>\n",
       "      <td>-0.185279</td>\n",
       "      <td>Amer_al-Saadi_0001_model1_pemiu16_0110.png</td>\n",
       "    </tr>\n",
       "  </tbody>\n",
       "</table>\n",
       "<p>128 rows × 5 columns</p>\n",
       "</div>"
      ],
      "text/plain": [
       "     Unnamed: 0                                           filename  \\\n",
       "40           40  experiments/experiment_9_pemiu_randomization/s...   \n",
       "37           37  experiments/experiment_9_pemiu_randomization/s...   \n",
       "46           46  experiments/experiment_9_pemiu_randomization/s...   \n",
       "59           59  experiments/experiment_9_pemiu_randomization/s...   \n",
       "12           12  experiments/experiment_9_pemiu_randomization/s...   \n",
       "..          ...                                                ...   \n",
       "114         114  experiments/experiment_9_pemiu_randomization/s...   \n",
       "2             2  experiments/experiment_9_pemiu_randomization/s...   \n",
       "58           58  experiments/experiment_9_pemiu_randomization/s...   \n",
       "95           95  experiments/experiment_9_pemiu_randomization/s...   \n",
       "110         110  experiments/experiment_9_pemiu_randomization/s...   \n",
       "\n",
       "                                           unprotected  \\\n",
       "40   experiments/experiment_9_pemiu_randomization/s...   \n",
       "37   experiments/experiment_9_pemiu_randomization/s...   \n",
       "46   experiments/experiment_9_pemiu_randomization/s...   \n",
       "59   experiments/experiment_9_pemiu_randomization/s...   \n",
       "12   experiments/experiment_9_pemiu_randomization/s...   \n",
       "..                                                 ...   \n",
       "114  experiments/experiment_9_pemiu_randomization/s...   \n",
       "2    experiments/experiment_9_pemiu_randomization/s...   \n",
       "58   experiments/experiment_9_pemiu_randomization/s...   \n",
       "95   experiments/experiment_9_pemiu_randomization/s...   \n",
       "110  experiments/experiment_9_pemiu_randomization/s...   \n",
       "\n",
       "     cos_sim_pemiu16_vs_real                                        file  \n",
       "40                  0.164585  Amer_al-Saadi_0001_model1_pemiu16_0040.png  \n",
       "37                  0.127211  Amer_al-Saadi_0001_model1_pemiu16_0037.png  \n",
       "46                  0.125953  Amer_al-Saadi_0001_model1_pemiu16_0046.png  \n",
       "59                  0.119147  Amer_al-Saadi_0001_model1_pemiu16_0059.png  \n",
       "12                  0.118235  Amer_al-Saadi_0001_model1_pemiu16_0012.png  \n",
       "..                       ...                                         ...  \n",
       "114                -0.131532  Amer_al-Saadi_0001_model1_pemiu16_0114.png  \n",
       "2                  -0.141128  Amer_al-Saadi_0001_model1_pemiu16_0002.png  \n",
       "58                 -0.158698  Amer_al-Saadi_0001_model1_pemiu16_0058.png  \n",
       "95                 -0.159122  Amer_al-Saadi_0001_model1_pemiu16_0095.png  \n",
       "110                -0.185279  Amer_al-Saadi_0001_model1_pemiu16_0110.png  \n",
       "\n",
       "[128 rows x 5 columns]"
      ]
     },
     "execution_count": 15,
     "metadata": {},
     "output_type": "execute_result"
    }
   ],
   "source": [
    "df.sort_values(by=['cos_sim_pemiu16_vs_real'], ascending=False)"
   ]
  },
  {
   "cell_type": "code",
   "execution_count": null,
   "id": "bfb045e7",
   "metadata": {},
   "outputs": [],
   "source": []
  },
  {
   "cell_type": "code",
   "execution_count": 2,
   "id": "68ab2a32",
   "metadata": {},
   "outputs": [
    {
     "data": {
      "text/plain": [
       "[0, 1, 2, 3, 4, 5, 6, 7, 8, 9]"
      ]
     },
     "execution_count": 2,
     "metadata": {},
     "output_type": "execute_result"
    }
   ],
   "source": [
    "sequence = [x for x in range(0, 10)]\n",
    "sequence"
   ]
  },
  {
   "cell_type": "code",
   "execution_count": 19,
   "id": "4a9872fc",
   "metadata": {},
   "outputs": [
    {
     "data": {
      "text/plain": [
       "[5, 4, 3, 1, 8, 9, 7, 0, 6, 2]"
      ]
     },
     "execution_count": 19,
     "metadata": {},
     "output_type": "execute_result"
    }
   ],
   "source": [
    "random.shuffle(sequence)\n",
    "sequence"
   ]
  },
  {
   "cell_type": "code",
   "execution_count": 3,
   "id": "eeabd68c",
   "metadata": {},
   "outputs": [
    {
     "data": {
      "text/plain": [
       "[5, 6, 2, 8, 7, 0, 1, 9, 4, 3]"
      ]
     },
     "execution_count": 3,
     "metadata": {},
     "output_type": "execute_result"
    }
   ],
   "source": [
    "# after restarting the kernel\n",
    "random.shuffle(sequence)\n",
    "sequence"
   ]
  },
  {
   "cell_type": "code",
   "execution_count": 4,
   "id": "b58dcbeb",
   "metadata": {},
   "outputs": [
    {
     "data": {
      "text/plain": [
       "[5, 0, 8, 4, 3, 2, 1, 9, 7, 6]"
      ]
     },
     "execution_count": 4,
     "metadata": {},
     "output_type": "execute_result"
    }
   ],
   "source": [
    "# second run\n",
    "random.shuffle(sequence)\n",
    "sequence"
   ]
  },
  {
   "cell_type": "code",
   "execution_count": 3,
   "id": "81d2f383",
   "metadata": {},
   "outputs": [
    {
     "data": {
      "text/plain": [
       "[1, 0, 9, 6, 2, 8, 7, 5, 4, 3]"
      ]
     },
     "execution_count": 3,
     "metadata": {},
     "output_type": "execute_result"
    }
   ],
   "source": [
    "#restart 3\n",
    "random.shuffle(sequence)\n",
    "sequence"
   ]
  },
  {
   "cell_type": "code",
   "execution_count": 6,
   "id": "0da86136",
   "metadata": {},
   "outputs": [
    {
     "data": {
      "text/plain": [
       "[1, 5, 6, 0, 9, 4, 7, 2, 8, 3]"
      ]
     },
     "execution_count": 6,
     "metadata": {},
     "output_type": "execute_result"
    }
   ],
   "source": [
    "random.seed(3)\n",
    "random.shuffle(sequence)\n",
    "sequence"
   ]
  },
  {
   "cell_type": "code",
   "execution_count": 8,
   "id": "d9d67822",
   "metadata": {},
   "outputs": [
    {
     "data": {
      "text/plain": [
       "[1, 5, 6, 0, 9, 4, 7, 2, 8, 3]"
      ]
     },
     "execution_count": 8,
     "metadata": {},
     "output_type": "execute_result"
    }
   ],
   "source": [
    "random.seed(3)\n",
    "random.shuffle(sequence)\n",
    "sequence"
   ]
  },
  {
   "cell_type": "code",
   "execution_count": 10,
   "id": "9bfe9e71",
   "metadata": {},
   "outputs": [
    {
     "data": {
      "text/plain": [
       "[2, 0, 6, 8, 9, 5, 1, 3, 4, 7]"
      ]
     },
     "execution_count": 10,
     "metadata": {},
     "output_type": "execute_result"
    }
   ],
   "source": [
    "#random.seed(3)\n",
    "random.shuffle(sequence)\n",
    "sequence"
   ]
  },
  {
   "cell_type": "code",
   "execution_count": 3,
   "id": "241e7f80",
   "metadata": {},
   "outputs": [
    {
     "data": {
      "text/plain": [
       "[1, 5, 6, 0, 9, 4, 7, 2, 8, 3]"
      ]
     },
     "execution_count": 3,
     "metadata": {},
     "output_type": "execute_result"
    }
   ],
   "source": [
    "random.seed(3)\n",
    "random.shuffle(sequence)\n",
    "sequence"
   ]
  },
  {
   "cell_type": "code",
   "execution_count": 4,
   "id": "cc79398e",
   "metadata": {},
   "outputs": [
    {
     "data": {
      "text/plain": [
       "[3, 1, 9, 8, 6, 0, 5, 2, 4, 7]"
      ]
     },
     "execution_count": 4,
     "metadata": {},
     "output_type": "execute_result"
    }
   ],
   "source": [
    "random.shuffle(sequence)\n",
    "sequence"
   ]
  },
  {
   "cell_type": "code",
   "execution_count": 6,
   "id": "5909e9fc",
   "metadata": {},
   "outputs": [
    {
     "data": {
      "text/plain": [
       "[1, 3, 7, 4, 5, 2, 9, 8, 0, 6]"
      ]
     },
     "execution_count": 6,
     "metadata": {},
     "output_type": "execute_result"
    }
   ],
   "source": [
    "random.shuffle(sequence)\n",
    "sequence"
   ]
  },
  {
   "cell_type": "code",
   "execution_count": 4,
   "id": "105e49a1",
   "metadata": {},
   "outputs": [
    {
     "data": {
      "text/plain": [
       "[2, 6, 8, 0, 3, 7, 9, 1, 5, 4]"
      ]
     },
     "execution_count": 4,
     "metadata": {},
     "output_type": "execute_result"
    }
   ],
   "source": [
    "# restart\n",
    "random.shuffle(sequence)\n",
    "sequence"
   ]
  },
  {
   "cell_type": "code",
   "execution_count": 3,
   "id": "6d3724c2",
   "metadata": {},
   "outputs": [],
   "source": [
    "random.seed(3)\n",
    "random.SystemRandom.seed(3)"
   ]
  },
  {
   "cell_type": "code",
   "execution_count": 7,
   "id": "d87753d1",
   "metadata": {},
   "outputs": [
    {
     "data": {
      "text/plain": [
       "0.30906538472078837"
      ]
     },
     "execution_count": 7,
     "metadata": {},
     "output_type": "execute_result"
    }
   ],
   "source": [
    "random.SystemRandom().random()"
   ]
  },
  {
   "cell_type": "code",
   "execution_count": 8,
   "id": "a9519bca",
   "metadata": {},
   "outputs": [
    {
     "data": {
      "text/plain": [
       "0.720188086100821"
      ]
     },
     "execution_count": 8,
     "metadata": {},
     "output_type": "execute_result"
    }
   ],
   "source": [
    "random.SystemRandom.seed(3)\n",
    "random.SystemRandom().random()"
   ]
  },
  {
   "cell_type": "code",
   "execution_count": 9,
   "id": "9e948860",
   "metadata": {},
   "outputs": [
    {
     "data": {
      "text/plain": [
       "0.5833158618608543"
      ]
     },
     "execution_count": 9,
     "metadata": {},
     "output_type": "execute_result"
    }
   ],
   "source": [
    "random.SystemRandom.seed(3)\n",
    "random.SystemRandom().random()"
   ]
  },
  {
   "cell_type": "code",
   "execution_count": 11,
   "id": "31ac2fc1",
   "metadata": {},
   "outputs": [
    {
     "data": {
      "text/plain": [
       "random.SystemRandom"
      ]
     },
     "execution_count": 11,
     "metadata": {},
     "output_type": "execute_result"
    }
   ],
   "source": [
    "random.SystemRandom"
   ]
  },
  {
   "cell_type": "code",
   "execution_count": 52,
   "id": "20f66fcc",
   "metadata": {},
   "outputs": [
    {
     "name": "stdout",
     "output_type": "stream",
     "text": [
      "25 of 1000 have no change in positions\n"
     ]
    }
   ],
   "source": [
    "sequence_original = [x for x in range(0, 4)]\n",
    "sequence_shuffle = sequence_original.copy()\n",
    "random_results = {}\n",
    "amount = 1000\n",
    "\n",
    "random.seed(6)\n",
    "for random_seed in range(0, amount):\n",
    "    random.shuffle(sequence_shuffle)\n",
    "    positions = [sequence_original[i] == sequence_shuffle[i] for i in range(len(sequence_original))]\n",
    "    random_results[random_seed] = sum(positions)\n",
    "\n",
    "count = 0\n",
    "for key, value in random_results.items():\n",
    "    if value == 4:\n",
    "        count = count + 1\n",
    "        # print(f\"Random seed where no shuffeling has occured: {key}\" )\n",
    "        \n",
    "print(f\"{count} of {amount} have no change in positions\")"
   ]
  },
  {
   "cell_type": "code",
   "execution_count": 53,
   "id": "a6b559e6",
   "metadata": {},
   "outputs": [
    {
     "data": {
      "text/plain": [
       "[False, False, False, True]"
      ]
     },
     "execution_count": 53,
     "metadata": {},
     "output_type": "execute_result"
    }
   ],
   "source": [
    "positions"
   ]
  },
  {
   "cell_type": "code",
   "execution_count": 54,
   "id": "d8a7321f",
   "metadata": {},
   "outputs": [
    {
     "data": {
      "text/plain": [
       "[0, 1, 2, 3]"
      ]
     },
     "execution_count": 54,
     "metadata": {},
     "output_type": "execute_result"
    }
   ],
   "source": [
    "sequence_original"
   ]
  },
  {
   "cell_type": "code",
   "execution_count": 55,
   "id": "d1131af5",
   "metadata": {},
   "outputs": [
    {
     "data": {
      "text/plain": [
       "[1, 2, 0, 3]"
      ]
     },
     "execution_count": 55,
     "metadata": {},
     "output_type": "execute_result"
    }
   ],
   "source": [
    "sequence_shuffle"
   ]
  },
  {
   "cell_type": "code",
   "execution_count": 13,
   "id": "9cd7a3cf",
   "metadata": {},
   "outputs": [],
   "source": [
    "# Load embeddings, divided by genuine and impostor pairs\n",
    "with open(\"../data/lfw_view2/pairs_filenames.csv\") as file:\n",
    "    df = pd.read_csv(file)\n",
    "    \n",
    "target_a = df.loc[0:0,:]['a_embedding'].to_string(header=False, index=False)\n",
    "target_b = df.loc[0:0,:]['b_embedding'].to_string(header=False, index=False)"
   ]
  },
  {
   "cell_type": "code",
   "execution_count": 14,
   "id": "eb768a09",
   "metadata": {},
   "outputs": [
    {
     "data": {
      "text/plain": [
       "'../data/features_cleaner/Abel_Pacheco_0001.npy'"
      ]
     },
     "execution_count": 14,
     "metadata": {},
     "output_type": "execute_result"
    }
   ],
   "source": [
    "target_a"
   ]
  },
  {
   "cell_type": "code",
   "execution_count": 15,
   "id": "f0c50827",
   "metadata": {},
   "outputs": [],
   "source": [
    "target_a = [np.load(target_a)]"
   ]
  },
  {
   "cell_type": "code",
   "execution_count": 16,
   "id": "985b248d",
   "metadata": {},
   "outputs": [],
   "source": [
    "pemiu = PrivacyEnhancingMIU(block_size=128)\n",
    "random_results = {}\n",
    "amount = 1000\n",
    "\n",
    "for j in range(0, amount):\n",
    "    random.seed(j)\n",
    "    target_a_shuffled = pemiu.shuffle(target_a)\n",
    "    positions = [target_a[i] == target_a_shuffled[i] for i in range(len(target_a))]\n",
    "    random_results[j] = sum(positions[0])"
   ]
  },
  {
   "cell_type": "code",
   "execution_count": 6,
   "id": "f1c66c7e",
   "metadata": {},
   "outputs": [
    {
     "name": "stdout",
     "output_type": "stream",
     "text": [
      "39 of 1000 have no change in positions (3.9 %)\n"
     ]
    }
   ],
   "source": [
    "count = 0\n",
    "for key, value in random_results.items():\n",
    "    if value == 512:\n",
    "        count = count + 1\n",
    "        # print(f\"Random seed where no shuffeling has occured: {key}\" )\n",
    "        \n",
    "print(f\"{count} of {amount} have no change in positions ({round(count / amount * 100, 3)} %)\")"
   ]
  },
  {
   "cell_type": "code",
   "execution_count": 7,
   "id": "eb26b6f3",
   "metadata": {},
   "outputs": [
    {
     "name": "stdout",
     "output_type": "stream",
     "text": [
      "248 of 1000 have half of the blocks permuted (24.8 %)\n"
     ]
    }
   ],
   "source": [
    "count = 0\n",
    "for key, value in random_results.items():\n",
    "    if value == 256:\n",
    "        count = count + 1\n",
    "        # print(f\"Random seed where no shuffeling has occured: {key}\" )\n",
    "        \n",
    "print(f\"{count} of {amount} have half of the blocks permuted ({round(count / amount * 100, 3)} %)\")"
   ]
  },
  {
   "cell_type": "code",
   "execution_count": 8,
   "id": "c89477bb",
   "metadata": {},
   "outputs": [
    {
     "name": "stdout",
     "output_type": "stream",
     "text": [
      "357 of 1000 have three of the blocks permuted (35.7 %)\n"
     ]
    }
   ],
   "source": [
    "count = 0\n",
    "for key, value in random_results.items():\n",
    "    if value == 128:\n",
    "        count = count + 1\n",
    "        # print(f\"Random seed where no shuffeling has occured: {key}\" )\n",
    "        \n",
    "print(f\"{count} of {amount} have three of the blocks permuted ({round(count / amount * 100, 3)} %)\")"
   ]
  },
  {
   "cell_type": "code",
   "execution_count": 9,
   "id": "d93954c9",
   "metadata": {},
   "outputs": [
    {
     "name": "stdout",
     "output_type": "stream",
     "text": [
      "356 of 1000 have all of the blocks permuted (35.6 %)\n"
     ]
    }
   ],
   "source": [
    "count = 0\n",
    "for key, value in random_results.items():\n",
    "    if value == 0:\n",
    "        count = count + 1\n",
    "        # print(f\"Random seed where no shuffeling has occured: {key}\" )\n",
    "        \n",
    "print(f\"{count} of {amount} have all of the blocks permuted ({round(count / amount * 100, 3)} %)\")"
   ]
  },
  {
   "cell_type": "code",
   "execution_count": 10,
   "id": "72acb811",
   "metadata": {
    "scrolled": true
   },
   "outputs": [
    {
     "name": "stdout",
     "output_type": "stream",
     "text": [
      "9\n",
      "11\n",
      "27\n",
      "75\n",
      "92\n",
      "93\n",
      "112\n",
      "189\n",
      "202\n",
      "227\n",
      "248\n",
      "251\n",
      "271\n",
      "301\n",
      "315\n",
      "349\n",
      "476\n",
      "480\n",
      "490\n",
      "500\n",
      "504\n",
      "517\n",
      "566\n",
      "643\n",
      "654\n",
      "681\n",
      "684\n",
      "710\n",
      "713\n",
      "733\n",
      "749\n",
      "776\n",
      "804\n",
      "818\n",
      "851\n",
      "857\n",
      "869\n",
      "901\n",
      "983\n"
     ]
    }
   ],
   "source": [
    "# Seed where items are not shuffled\n",
    "for k, v in random_results.items():\n",
    "    if v == 512:\n",
    "        print(k)\n",
    "        #break"
   ]
  },
  {
   "cell_type": "code",
   "execution_count": 11,
   "id": "f10bae5b",
   "metadata": {},
   "outputs": [
    {
     "name": "stdout",
     "output_type": "stream",
     "text": [
      "5\n",
      "12\n",
      "17\n",
      "24\n",
      "40\n",
      "44\n",
      "50\n",
      "63\n",
      "64\n",
      "65\n",
      "68\n",
      "81\n",
      "86\n",
      "88\n",
      "89\n",
      "101\n",
      "102\n",
      "103\n",
      "106\n",
      "107\n",
      "110\n",
      "113\n",
      "122\n",
      "126\n",
      "130\n",
      "132\n",
      "133\n",
      "134\n",
      "135\n",
      "136\n",
      "139\n",
      "141\n",
      "142\n",
      "144\n",
      "145\n",
      "148\n",
      "151\n",
      "152\n",
      "155\n",
      "159\n",
      "160\n",
      "163\n",
      "164\n",
      "166\n",
      "168\n",
      "170\n",
      "178\n",
      "186\n",
      "193\n",
      "198\n",
      "199\n",
      "201\n",
      "210\n",
      "212\n",
      "215\n",
      "244\n",
      "246\n",
      "249\n",
      "252\n",
      "254\n",
      "256\n",
      "262\n",
      "263\n",
      "265\n",
      "275\n",
      "282\n",
      "286\n",
      "291\n",
      "295\n",
      "297\n",
      "305\n",
      "306\n",
      "307\n",
      "312\n",
      "313\n",
      "317\n",
      "320\n",
      "324\n",
      "327\n",
      "329\n",
      "332\n",
      "334\n",
      "340\n",
      "347\n",
      "359\n",
      "361\n",
      "367\n",
      "368\n",
      "370\n",
      "371\n",
      "372\n",
      "376\n",
      "386\n",
      "389\n",
      "390\n",
      "400\n",
      "401\n",
      "402\n",
      "403\n",
      "406\n",
      "409\n",
      "410\n",
      "420\n",
      "424\n",
      "427\n",
      "432\n",
      "433\n",
      "435\n",
      "436\n",
      "439\n",
      "446\n",
      "447\n",
      "454\n",
      "456\n",
      "458\n",
      "460\n",
      "470\n",
      "471\n",
      "477\n",
      "479\n",
      "488\n",
      "489\n",
      "491\n",
      "493\n",
      "501\n",
      "506\n",
      "507\n",
      "518\n",
      "519\n",
      "523\n",
      "528\n",
      "531\n",
      "533\n",
      "534\n",
      "553\n",
      "556\n",
      "559\n",
      "565\n",
      "591\n",
      "598\n",
      "602\n",
      "603\n",
      "605\n",
      "610\n",
      "616\n",
      "617\n",
      "618\n",
      "621\n",
      "637\n",
      "639\n",
      "640\n",
      "644\n",
      "648\n",
      "652\n",
      "653\n",
      "656\n",
      "660\n",
      "664\n",
      "665\n",
      "666\n",
      "667\n",
      "669\n",
      "676\n",
      "680\n",
      "683\n",
      "687\n",
      "690\n",
      "693\n",
      "704\n",
      "706\n",
      "707\n",
      "708\n",
      "711\n",
      "712\n",
      "721\n",
      "739\n",
      "744\n",
      "745\n",
      "746\n",
      "754\n",
      "755\n",
      "756\n",
      "757\n",
      "770\n",
      "772\n",
      "780\n",
      "784\n",
      "788\n",
      "789\n",
      "792\n",
      "795\n",
      "796\n",
      "798\n",
      "799\n",
      "800\n",
      "802\n",
      "806\n",
      "817\n",
      "821\n",
      "824\n",
      "825\n",
      "838\n",
      "843\n",
      "853\n",
      "863\n",
      "865\n",
      "867\n",
      "868\n",
      "872\n",
      "873\n",
      "875\n",
      "876\n",
      "879\n",
      "882\n",
      "884\n",
      "886\n",
      "887\n",
      "894\n",
      "902\n",
      "904\n",
      "909\n",
      "910\n",
      "911\n",
      "918\n",
      "922\n",
      "923\n",
      "926\n",
      "931\n",
      "932\n",
      "938\n",
      "941\n",
      "946\n",
      "947\n",
      "949\n",
      "955\n",
      "956\n",
      "958\n",
      "960\n",
      "962\n",
      "964\n",
      "969\n",
      "972\n",
      "975\n",
      "977\n",
      "990\n",
      "994\n",
      "997\n",
      "999\n"
     ]
    }
   ],
   "source": [
    "# Seed where only half of the blocks are shuffled\n",
    "for k, v in random_results.items():\n",
    "    if v == 256:\n",
    "        print(k)\n",
    "        #break"
   ]
  },
  {
   "cell_type": "code",
   "execution_count": 12,
   "id": "557e7403",
   "metadata": {},
   "outputs": [],
   "source": [
    "random.seed(9)\n",
    "target_a_shuffled_not_shuffled = pemiu.shuffle(target_a)\n",
    "\n",
    "random.seed(5)\n",
    "target_a_shuffled_half_shuffled = pemiu.shuffle(target_a)"
   ]
  },
  {
   "cell_type": "code",
   "execution_count": 2,
   "id": "d5c020a9",
   "metadata": {},
   "outputs": [],
   "source": [
    "path = \"../recreate_icip2022_face_reconstruction/experiments/experiment_11_pemiu_random\"\n",
    "os.makedirs(path, exist_ok=True)"
   ]
  },
  {
   "cell_type": "code",
   "execution_count": 13,
   "id": "1bd4d89f",
   "metadata": {},
   "outputs": [],
   "source": [
    "save_path = \"../recreate_icip2022_face_reconstruction/experiments/experiment_11_pemiu_random/embedding_half\"\n",
    "os.makedirs(save_path, exist_ok=True)\n",
    "\n",
    "# Seed where only half of the blocks are shuffled\n",
    "for k, v in random_results.items():\n",
    "    if v == 256:\n",
    "        random.seed(k)\n",
    "        target_a_shuffled = pemiu.shuffle(target_a)\n",
    "        np.save(f\"{save_path}/Abel_Pacheco_0001_{k}.npy\", target_a_shuffled)"
   ]
  },
  {
   "cell_type": "code",
   "execution_count": 4,
   "id": "701f6826",
   "metadata": {},
   "outputs": [],
   "source": [
    "#np.save(f\"{path}/target_a_shuffled_not_shuffled.npy\", target_a_shuffled_not_shuffled)\n",
    "#np.save(f\"{path}/target_a_shuffled_half_shuffled.npy\", target_a_shuffled_half_shuffled)"
   ]
  },
  {
   "cell_type": "code",
   "execution_count": 3,
   "id": "3dc39abd",
   "metadata": {},
   "outputs": [
    {
     "name": "stdout",
     "output_type": "stream",
     "text": [
      "The torch device is: cuda\n",
      "Generating around 248 samples\n",
      "Done\n",
      "\n"
     ]
    }
   ],
   "source": [
    "samples_exp_11 = GenerateSampleImagesFromEmbeddings(\n",
    "    dataset_dir=path,\n",
    "    embedding_dir=f\"embedding_half\",\n",
    "    image_dir=f\"{path}/img\",\n",
    "    file_appendix=f\"exp11\",\n",
    "    save_path=f\"{path}/samples\",\n",
    "    save_path_log=path,\n",
    "    generator_checkpoint_dir=\"../recreate_icip2022_face_reconstruction/training_files\",\n",
    "    epoch=90,\n",
    "    write_original_img=False,\n",
    "    create_subdirs=False,\n",
    "    iterations=248,\n",
    "    batch_size=248\n",
    ")\n",
    "samples_exp_11.generate()"
   ]
  },
  {
   "cell_type": "code",
   "execution_count": 4,
   "id": "e2b9a3e2",
   "metadata": {},
   "outputs": [],
   "source": [
    "df_results = pd.read_csv(f\"{path}/logs/sample_images_log_exp11.csv\")"
   ]
  },
  {
   "cell_type": "code",
   "execution_count": 8,
   "id": "b08447be",
   "metadata": {},
   "outputs": [
    {
     "data": {
      "text/html": [
       "<div>\n",
       "<style scoped>\n",
       "    .dataframe tbody tr th:only-of-type {\n",
       "        vertical-align: middle;\n",
       "    }\n",
       "\n",
       "    .dataframe tbody tr th {\n",
       "        vertical-align: top;\n",
       "    }\n",
       "\n",
       "    .dataframe thead th {\n",
       "        text-align: right;\n",
       "    }\n",
       "</style>\n",
       "<table border=\"1\" class=\"dataframe\">\n",
       "  <thead>\n",
       "    <tr style=\"text-align: right;\">\n",
       "      <th></th>\n",
       "      <th>filename</th>\n",
       "      <th>MAE</th>\n",
       "      <th>Cosine Distance Bona Fide Embedding vs Input Embedding</th>\n",
       "      <th>Cosine Distance Bona Fide Embedding vs Synthesised Image Embedding</th>\n",
       "    </tr>\n",
       "  </thead>\n",
       "  <tbody>\n",
       "    <tr>\n",
       "      <th>0</th>\n",
       "      <td>Abel_Pacheco_0001_101_exp11_0000.png</td>\n",
       "      <td>0.166449</td>\n",
       "      <td>0.413</td>\n",
       "      <td>0.322</td>\n",
       "    </tr>\n",
       "    <tr>\n",
       "      <th>2</th>\n",
       "      <td>Abel_Pacheco_0001_103_exp11_0002.png</td>\n",
       "      <td>0.248025</td>\n",
       "      <td>0.372</td>\n",
       "      <td>0.185</td>\n",
       "    </tr>\n",
       "    <tr>\n",
       "      <th>3</th>\n",
       "      <td>Abel_Pacheco_0001_106_exp11_0003.png</td>\n",
       "      <td>0.253857</td>\n",
       "      <td>0.488</td>\n",
       "      <td>0.452</td>\n",
       "    </tr>\n",
       "    <tr>\n",
       "      <th>6</th>\n",
       "      <td>Abel_Pacheco_0001_113_exp11_0006.png</td>\n",
       "      <td>0.235458</td>\n",
       "      <td>0.394</td>\n",
       "      <td>0.226</td>\n",
       "    </tr>\n",
       "    <tr>\n",
       "      <th>7</th>\n",
       "      <td>Abel_Pacheco_0001_12_exp11_0007.png</td>\n",
       "      <td>0.222772</td>\n",
       "      <td>0.373</td>\n",
       "      <td>0.215</td>\n",
       "    </tr>\n",
       "  </tbody>\n",
       "</table>\n",
       "</div>"
      ],
      "text/plain": [
       "                               filename       MAE  \\\n",
       "0  Abel_Pacheco_0001_101_exp11_0000.png  0.166449   \n",
       "2  Abel_Pacheco_0001_103_exp11_0002.png  0.248025   \n",
       "3  Abel_Pacheco_0001_106_exp11_0003.png  0.253857   \n",
       "6  Abel_Pacheco_0001_113_exp11_0006.png  0.235458   \n",
       "7   Abel_Pacheco_0001_12_exp11_0007.png  0.222772   \n",
       "\n",
       "   Cosine Distance Bona Fide Embedding vs Input Embedding  \\\n",
       "0                                              0.413        \n",
       "2                                              0.372        \n",
       "3                                              0.488        \n",
       "6                                              0.394        \n",
       "7                                              0.373        \n",
       "\n",
       "   Cosine Distance Bona Fide Embedding vs Synthesised Image Embedding  \n",
       "0                                              0.322                   \n",
       "2                                              0.185                   \n",
       "3                                              0.452                   \n",
       "6                                              0.226                   \n",
       "7                                              0.215                   "
      ]
     },
     "execution_count": 8,
     "metadata": {},
     "output_type": "execute_result"
    }
   ],
   "source": [
    "df_results.head()"
   ]
  },
  {
   "cell_type": "code",
   "execution_count": 44,
   "id": "d1fc59e6",
   "metadata": {},
   "outputs": [
    {
     "data": {
      "text/html": [
       "<div>\n",
       "<style scoped>\n",
       "    .dataframe tbody tr th:only-of-type {\n",
       "        vertical-align: middle;\n",
       "    }\n",
       "\n",
       "    .dataframe tbody tr th {\n",
       "        vertical-align: top;\n",
       "    }\n",
       "\n",
       "    .dataframe thead th {\n",
       "        text-align: right;\n",
       "    }\n",
       "</style>\n",
       "<table border=\"1\" class=\"dataframe\">\n",
       "  <thead>\n",
       "    <tr style=\"text-align: right;\">\n",
       "      <th></th>\n",
       "      <th>filename</th>\n",
       "      <th>cossim</th>\n",
       "    </tr>\n",
       "  </thead>\n",
       "  <tbody>\n",
       "    <tr>\n",
       "      <th>3</th>\n",
       "      <td>Abel_Pacheco_0001_106_exp11_0003.png</td>\n",
       "      <td>0.452</td>\n",
       "    </tr>\n",
       "    <tr>\n",
       "      <th>14</th>\n",
       "      <td>Abel_Pacheco_0001_135_exp11_0014.png</td>\n",
       "      <td>0.333</td>\n",
       "    </tr>\n",
       "    <tr>\n",
       "      <th>0</th>\n",
       "      <td>Abel_Pacheco_0001_101_exp11_0000.png</td>\n",
       "      <td>0.322</td>\n",
       "    </tr>\n",
       "    <tr>\n",
       "      <th>6</th>\n",
       "      <td>Abel_Pacheco_0001_113_exp11_0006.png</td>\n",
       "      <td>0.226</td>\n",
       "    </tr>\n",
       "    <tr>\n",
       "      <th>7</th>\n",
       "      <td>Abel_Pacheco_0001_12_exp11_0007.png</td>\n",
       "      <td>0.215</td>\n",
       "    </tr>\n",
       "    <tr>\n",
       "      <th>2</th>\n",
       "      <td>Abel_Pacheco_0001_103_exp11_0002.png</td>\n",
       "      <td>0.185</td>\n",
       "    </tr>\n",
       "  </tbody>\n",
       "</table>\n",
       "</div>"
      ],
      "text/plain": [
       "                                filename  cossim\n",
       "3   Abel_Pacheco_0001_106_exp11_0003.png   0.452\n",
       "14  Abel_Pacheco_0001_135_exp11_0014.png   0.333\n",
       "0   Abel_Pacheco_0001_101_exp11_0000.png   0.322\n",
       "6   Abel_Pacheco_0001_113_exp11_0006.png   0.226\n",
       "7    Abel_Pacheco_0001_12_exp11_0007.png   0.215\n",
       "2   Abel_Pacheco_0001_103_exp11_0002.png   0.185"
      ]
     },
     "execution_count": 44,
     "metadata": {},
     "output_type": "execute_result"
    }
   ],
   "source": [
    "df_results.drop_duplicates(subset=df_results.columns.difference(['filename']), inplace=True)\n",
    "df_sorted = df_results.sort_values(by=\"Cosine Distance Bona Fide Embedding vs Synthesised Image Embedding\", ascending=False)\n",
    "df_sorted.rename(columns={'Cosine Distance Bona Fide Embedding vs Synthesised Image Embedding': 'cossim'}, inplace=True)\n",
    "df_sorted[['filename', 'cossim']]"
   ]
  },
  {
   "cell_type": "code",
   "execution_count": 22,
   "id": "d1cbd6af",
   "metadata": {
    "scrolled": true
   },
   "outputs": [
    {
     "data": {
      "text/plain": [
       "[array([False, False, False, False, False, False, False, False, False,\n",
       "        False, False, False, False, False, False, False, False, False,\n",
       "        False, False, False, False, False, False, False, False, False,\n",
       "        False, False, False, False, False, False, False, False, False,\n",
       "        False, False, False, False, False, False, False, False, False,\n",
       "        False, False, False, False, False, False, False, False, False,\n",
       "        False, False, False, False, False, False, False, False, False,\n",
       "        False, False, False, False, False, False, False, False, False,\n",
       "        False, False, False, False, False, False, False, False, False,\n",
       "        False, False, False, False, False, False, False, False, False,\n",
       "        False, False, False, False, False, False, False, False, False,\n",
       "        False, False, False, False, False, False, False, False, False,\n",
       "        False, False, False, False, False, False, False, False, False,\n",
       "        False, False, False, False, False, False, False, False, False,\n",
       "        False, False,  True,  True,  True,  True,  True,  True,  True,\n",
       "         True,  True,  True,  True,  True,  True,  True,  True,  True,\n",
       "         True,  True,  True,  True,  True,  True,  True,  True,  True,\n",
       "         True,  True,  True,  True,  True,  True,  True,  True,  True,\n",
       "         True,  True,  True,  True,  True,  True,  True,  True,  True,\n",
       "         True,  True,  True,  True,  True,  True,  True,  True,  True,\n",
       "         True,  True,  True,  True,  True,  True,  True,  True,  True,\n",
       "         True,  True,  True,  True,  True,  True,  True,  True,  True,\n",
       "         True,  True,  True,  True,  True,  True,  True,  True,  True,\n",
       "         True,  True,  True,  True,  True,  True,  True,  True,  True,\n",
       "         True,  True,  True,  True,  True,  True,  True,  True,  True,\n",
       "         True,  True,  True,  True,  True,  True,  True,  True,  True,\n",
       "         True,  True,  True,  True,  True,  True,  True,  True,  True,\n",
       "         True,  True,  True,  True,  True,  True,  True,  True,  True,\n",
       "         True,  True,  True,  True, False, False, False, False, False,\n",
       "        False, False, False, False, False, False, False, False, False,\n",
       "        False, False, False, False, False, False, False, False, False,\n",
       "        False, False, False, False, False, False, False, False, False,\n",
       "        False, False, False, False, False, False, False, False, False,\n",
       "        False, False, False, False, False, False, False, False, False,\n",
       "        False, False, False, False, False, False, False, False, False,\n",
       "        False, False, False, False, False, False, False, False, False,\n",
       "        False, False, False, False, False, False, False, False, False,\n",
       "        False, False, False, False, False, False, False, False, False,\n",
       "        False, False, False, False, False, False, False, False, False,\n",
       "        False, False, False, False, False, False, False, False, False,\n",
       "        False, False, False, False, False, False, False, False, False,\n",
       "        False, False, False, False, False, False, False, False, False,\n",
       "        False, False, False, False, False, False,  True,  True,  True,\n",
       "         True,  True,  True,  True,  True,  True,  True,  True,  True,\n",
       "         True,  True,  True,  True,  True,  True,  True,  True,  True,\n",
       "         True,  True,  True,  True,  True,  True,  True,  True,  True,\n",
       "         True,  True,  True,  True,  True,  True,  True,  True,  True,\n",
       "         True,  True,  True,  True,  True,  True,  True,  True,  True,\n",
       "         True,  True,  True,  True,  True,  True,  True,  True,  True,\n",
       "         True,  True,  True,  True,  True,  True,  True,  True,  True,\n",
       "         True,  True,  True,  True,  True,  True,  True,  True,  True,\n",
       "         True,  True,  True,  True,  True,  True,  True,  True,  True,\n",
       "         True,  True,  True,  True,  True,  True,  True,  True,  True,\n",
       "         True,  True,  True,  True,  True,  True,  True,  True,  True,\n",
       "         True,  True,  True,  True,  True,  True,  True,  True,  True,\n",
       "         True,  True,  True,  True,  True,  True,  True,  True,  True,\n",
       "         True,  True,  True,  True,  True,  True,  True,  True])]"
      ]
     },
     "execution_count": 22,
     "metadata": {},
     "output_type": "execute_result"
    }
   ],
   "source": [
    "random.seed(106)\n",
    "target_a_shuffled = pemiu.shuffle(target_a)\n",
    "positions = [target_a[i] == target_a_shuffled[i] for i in range(len(target_a))]\n",
    "positions"
   ]
  },
  {
   "cell_type": "code",
   "execution_count": 28,
   "id": "4189fb41",
   "metadata": {},
   "outputs": [],
   "source": [
    "sequence_original = [x for x in range(0, 4)]"
   ]
  },
  {
   "cell_type": "code",
   "execution_count": 48,
   "id": "0648bdc9",
   "metadata": {},
   "outputs": [
    {
     "data": {
      "text/plain": [
       "[0, 1, 2, 3]"
      ]
     },
     "execution_count": 48,
     "metadata": {},
     "output_type": "execute_result"
    }
   ],
   "source": [
    "sequence_original"
   ]
  },
  {
   "cell_type": "code",
   "execution_count": 29,
   "id": "f3723f43",
   "metadata": {},
   "outputs": [
    {
     "data": {
      "text/plain": [
       "[2, 1, 0, 3]"
      ]
     },
     "execution_count": 29,
     "metadata": {},
     "output_type": "execute_result"
    }
   ],
   "source": [
    "sequence_shuffle = sequence_original.copy()\n",
    "random.seed(106)\n",
    "random.shuffle(sequence_shuffle)\n",
    "sequence_shuffle"
   ]
  },
  {
   "cell_type": "code",
   "execution_count": 30,
   "id": "4f8233b5",
   "metadata": {},
   "outputs": [
    {
     "data": {
      "text/plain": [
       "[0, 1, 3, 2]"
      ]
     },
     "execution_count": 30,
     "metadata": {},
     "output_type": "execute_result"
    }
   ],
   "source": [
    "sequence_shuffle = sequence_original.copy()\n",
    "random.seed(135)\n",
    "random.shuffle(sequence_shuffle)\n",
    "sequence_shuffle"
   ]
  },
  {
   "cell_type": "code",
   "execution_count": 31,
   "id": "a74efc21",
   "metadata": {},
   "outputs": [
    {
     "data": {
      "text/plain": [
       "[0, 3, 2, 1]"
      ]
     },
     "execution_count": 31,
     "metadata": {},
     "output_type": "execute_result"
    }
   ],
   "source": [
    "sequence_shuffle = sequence_original.copy()\n",
    "random.seed(101)\n",
    "random.shuffle(sequence_shuffle)\n",
    "sequence_shuffle"
   ]
  },
  {
   "cell_type": "code",
   "execution_count": 45,
   "id": "ec25499d",
   "metadata": {},
   "outputs": [
    {
     "data": {
      "text/plain": [
       "[3, 1, 2, 0]"
      ]
     },
     "execution_count": 45,
     "metadata": {},
     "output_type": "execute_result"
    }
   ],
   "source": [
    "sequence_shuffle = sequence_original.copy()\n",
    "random.seed(113)\n",
    "random.shuffle(sequence_shuffle)\n",
    "sequence_shuffle"
   ]
  },
  {
   "cell_type": "code",
   "execution_count": 46,
   "id": "cdc4661b",
   "metadata": {},
   "outputs": [
    {
     "data": {
      "text/plain": [
       "[0, 2, 1, 3]"
      ]
     },
     "execution_count": 46,
     "metadata": {},
     "output_type": "execute_result"
    }
   ],
   "source": [
    "sequence_shuffle = sequence_original.copy()\n",
    "random.seed(12)\n",
    "random.shuffle(sequence_shuffle)\n",
    "sequence_shuffle"
   ]
  },
  {
   "cell_type": "code",
   "execution_count": 47,
   "id": "e2852f20",
   "metadata": {},
   "outputs": [
    {
     "data": {
      "text/plain": [
       "[1, 0, 2, 3]"
      ]
     },
     "execution_count": 47,
     "metadata": {},
     "output_type": "execute_result"
    }
   ],
   "source": [
    "sequence_shuffle = sequence_original.copy()\n",
    "random.seed(103)\n",
    "random.shuffle(sequence_shuffle)\n",
    "sequence_shuffle"
   ]
  }
 ],
 "metadata": {
  "kernelspec": {
   "display_name": "Python 3 (ipykernel)",
   "language": "python",
   "name": "python3"
  },
  "language_info": {
   "codemirror_mode": {
    "name": "ipython",
    "version": 3
   },
   "file_extension": ".py",
   "mimetype": "text/x-python",
   "name": "python",
   "nbconvert_exporter": "python",
   "pygments_lexer": "ipython3",
   "version": "3.8.10"
  }
 },
 "nbformat": 4,
 "nbformat_minor": 5
}
